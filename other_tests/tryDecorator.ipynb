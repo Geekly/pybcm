{
 "cells": [
  {
   "cell_type": "code",
   "execution_count": 2,
   "metadata": {},
   "outputs": [
    {
     "name": "stdout",
     "output_type": "stream",
     "text": [
      "Something is happening in here!\n",
      "This is the function happening\n"
     ]
    }
   ],
   "source": [
    "def my_decorator(function):\n",
    "    \n",
    "    def wrapper():\n",
    "        print('Something is happening in here!')\n",
    "        function()\n",
    "    \n",
    "    return wrapper\n",
    "        \n",
    "        \n",
    "@my_decorator\n",
    "def my_func():\n",
    "    print('This is the function happening')\n",
    "        \n",
    "        \n",
    "my_func()"
   ]
  },
  {
   "cell_type": "code",
   "execution_count": 7,
   "metadata": {},
   "outputs": [
    {
     "data": {
      "text/plain": [
       "30.0"
      ]
     },
     "execution_count": 7,
     "metadata": {},
     "output_type": "execute_result"
    }
   ],
   "source": [
    "power = 1800\n",
    "power/60"
   ]
  }
 ],
 "metadata": {
  "kernelspec": {
   "display_name": "Python 3",
   "language": "python",
   "name": "python3"
  },
  "language_info": {
   "codemirror_mode": {
    "name": "ipython",
    "version": 3
   },
   "file_extension": ".py",
   "mimetype": "text/x-python",
   "name": "python",
   "nbconvert_exporter": "python",
   "pygments_lexer": "ipython3",
   "version": "3.6.1"
  }
 },
 "nbformat": 4,
 "nbformat_minor": 2
}
