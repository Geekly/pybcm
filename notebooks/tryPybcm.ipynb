{
 "cells": [
  {
   "cell_type": "code",
   "execution_count": 29,
   "outputs": [],
   "source": [
    "%load_ext autoreload"
   ],
   "metadata": {
    "collapsed": false,
    "pycharm": {
     "name": "#%%\n"
    }
   }
  },
  {
   "cell_type": "code",
   "execution_count": 44,
   "metadata": {
    "pycharm": {
     "name": "#%%\n"
    }
   },
   "outputs": [],
   "source": [
    "from enum import Enum\n",
    "import pandas as pd\n",
    "\n",
    "import pybcm\n",
    "from matplotlib import pyplot as plt\n",
    "from pybcm.config import BCMConfig\n",
    "from pybcm.rest import RestClient\n",
    "from pybcm.brick_data import BrickData\n",
    "from pybcm import pricing\n",
    "from pybcm.const import *"
   ]
  },
  {
   "cell_type": "code",
   "execution_count": 110,
   "outputs": [],
   "source": [
    "import importlib\n",
    "import time"
   ],
   "metadata": {
    "collapsed": false,
    "pycharm": {
     "name": "#%%\n"
    }
   }
  },
  {
   "cell_type": "code",
   "execution_count": 16,
   "outputs": [],
   "source": [
    "from configparser import RawConfigParser"
   ],
   "metadata": {
    "collapsed": false,
    "pycharm": {
     "name": "#%%\n"
    }
   }
  },
  {
   "cell_type": "code",
   "execution_count": 70,
   "outputs": [
    {
     "data": {
      "text/plain": "<module 'pybcm.pricing' from 'D:\\\\OneDrive\\\\Python\\\\pybcm\\\\pybcm\\\\pricing.py'>"
     },
     "execution_count": 70,
     "metadata": {},
     "output_type": "execute_result"
    }
   ],
   "source": [
    "importlib.reload(pybcm)\n",
    "importlib.reload(pybcm.config)\n",
    "importlib.reload(pybcm.pricing)"
   ],
   "metadata": {
    "collapsed": false,
    "pycharm": {
     "name": "#%%\n"
    }
   }
  },
  {
   "cell_type": "code",
   "execution_count": 51,
   "outputs": [
    {
     "data": {
      "text/plain": "['../config/bcm.ini']"
     },
     "execution_count": 51,
     "metadata": {},
     "output_type": "execute_result"
    }
   ],
   "source": [
    "parser = RawConfigParser()\n",
    "parser.read(\"../config/bcm.ini\")"
   ],
   "metadata": {
    "collapsed": false,
    "pycharm": {
     "name": "#%%\n"
    }
   }
  },
  {
   "cell_type": "code",
   "execution_count": 52,
   "outputs": [
    {
     "data": {
      "text/plain": "True"
     },
     "execution_count": 52,
     "metadata": {},
     "output_type": "execute_result"
    }
   ],
   "source": [
    "parser.has_section(\"bricklink\")"
   ],
   "metadata": {
    "collapsed": false,
    "pycharm": {
     "name": "#%%\n"
    }
   }
  },
  {
   "cell_type": "code",
   "execution_count": 53,
   "metadata": {
    "pycharm": {
     "name": "#%%\n"
    }
   },
   "outputs": [
    {
     "name": "stdout",
     "output_type": "stream",
     "text": [
      "Initializing <class 'pybcm.config.BCMConfig'> ../config/bcm.ini\n"
     ]
    }
   ],
   "source": [
    "config = BCMConfig('../config/bcm.ini')"
   ]
  },
  {
   "cell_type": "code",
   "execution_count": 54,
   "outputs": [],
   "source": [
    "rc = RestClient(config)"
   ],
   "metadata": {
    "collapsed": false,
    "pycharm": {
     "name": "#%%\n"
    }
   }
  },
  {
   "cell_type": "code",
   "execution_count": 55,
   "outputs": [],
   "source": [
    "bd = BrickData(config)"
   ],
   "metadata": {
    "collapsed": false,
    "pycharm": {
     "name": "#%%\n"
    }
   }
  },
  {
   "cell_type": "code",
   "execution_count": 106,
   "outputs": [
    {
     "data": {
      "text/plain": "  item_id itemtype color_id new_or_used currency_code  avg_price  max_price  \\\n0    3006     PART       10           N           USD     0.7499      24.99   \n\n   min_price  qty_avg_price  unit_quantity  total_quantity sold_or_stock  \\\n0       0.08         0.9799           3247           56304         stock   \n\n          region  \n0  north_america  ",
      "text/html": "<div>\n<style scoped>\n    .dataframe tbody tr th:only-of-type {\n        vertical-align: middle;\n    }\n\n    .dataframe tbody tr th {\n        vertical-align: top;\n    }\n\n    .dataframe thead th {\n        text-align: right;\n    }\n</style>\n<table border=\"1\" class=\"dataframe\">\n  <thead>\n    <tr style=\"text-align: right;\">\n      <th></th>\n      <th>item_id</th>\n      <th>itemtype</th>\n      <th>color_id</th>\n      <th>new_or_used</th>\n      <th>currency_code</th>\n      <th>avg_price</th>\n      <th>max_price</th>\n      <th>min_price</th>\n      <th>qty_avg_price</th>\n      <th>unit_quantity</th>\n      <th>total_quantity</th>\n      <th>sold_or_stock</th>\n      <th>region</th>\n    </tr>\n  </thead>\n  <tbody>\n    <tr>\n      <th>0</th>\n      <td>3006</td>\n      <td>PART</td>\n      <td>10</td>\n      <td>N</td>\n      <td>USD</td>\n      <td>0.7499</td>\n      <td>24.99</td>\n      <td>0.08</td>\n      <td>0.9799</td>\n      <td>3247</td>\n      <td>56304</td>\n      <td>stock</td>\n      <td>north_america</td>\n    </tr>\n  </tbody>\n</table>\n</div>"
     },
     "execution_count": 106,
     "metadata": {},
     "output_type": "execute_result"
    }
   ],
   "source": [
    "bd.get_part_price_summary('3006', '10')"
   ],
   "metadata": {
    "collapsed": false,
    "pycharm": {
     "name": "#%%\n"
    }
   }
  },
  {
   "cell_type": "code",
   "execution_count": 56,
   "metadata": {
    "pycharm": {
     "name": "#%%\n"
    }
   },
   "outputs": [],
   "source": [
    "kc = bd.get_known_colors('3006', 'PART')"
   ]
  },
  {
   "cell_type": "code",
   "execution_count": 107,
   "metadata": {
    "pycharm": {
     "name": "#%%\n"
    }
   },
   "outputs": [
    {
     "data": {
      "text/plain": "          quantity color_name\ncolor_id                     \n1              128      White\n2               27        Tan\n3               79     Yellow\n5              206        Red\n6                5      Green",
      "text/html": "<div>\n<style scoped>\n    .dataframe tbody tr th:only-of-type {\n        vertical-align: middle;\n    }\n\n    .dataframe tbody tr th {\n        vertical-align: top;\n    }\n\n    .dataframe thead th {\n        text-align: right;\n    }\n</style>\n<table border=\"1\" class=\"dataframe\">\n  <thead>\n    <tr style=\"text-align: right;\">\n      <th></th>\n      <th>quantity</th>\n      <th>color_name</th>\n    </tr>\n    <tr>\n      <th>color_id</th>\n      <th></th>\n      <th></th>\n    </tr>\n  </thead>\n  <tbody>\n    <tr>\n      <th>1</th>\n      <td>128</td>\n      <td>White</td>\n    </tr>\n    <tr>\n      <th>2</th>\n      <td>27</td>\n      <td>Tan</td>\n    </tr>\n    <tr>\n      <th>3</th>\n      <td>79</td>\n      <td>Yellow</td>\n    </tr>\n    <tr>\n      <th>5</th>\n      <td>206</td>\n      <td>Red</td>\n    </tr>\n    <tr>\n      <th>6</th>\n      <td>5</td>\n      <td>Green</td>\n    </tr>\n  </tbody>\n</table>\n</div>"
     },
     "execution_count": 107,
     "metadata": {},
     "output_type": "execute_result"
    }
   ],
   "source": [
    "kc.head()"
   ]
  },
  {
   "cell_type": "code",
   "execution_count": 98,
   "metadata": {
    "pycharm": {
     "name": "#%%\n"
    }
   },
   "outputs": [
    {
     "data": {
      "text/plain": "                        item_id color_id  \\\nelement_id                                 \n(2357, 86)                 2357       86   \n(2420, 11)                 2420       11   \n(2420, 34)                 2420       34   \n(2420, 85)                 2420       85   \n(2431, 11)                 2431       11   \n...                         ...      ...   \n(44861, 86)               44861       86   \n(98138pb175, 86)     98138pb175       86   \n(3068bpb1657, 150)  3068bpb1657      150   \n(4162pb244, 11)       4162pb244       11   \n(40502stk01, 0)      40502stk01        0   \n\n                                                                 name  \\\nelement_id                                                              \n(2357, 86)                                         Brick 2 x 2 Corner   \n(2420, 11)                                         Plate 2 x 2 Corner   \n(2420, 34)                                         Plate 2 x 2 Corner   \n(2420, 85)                                         Plate 2 x 2 Corner   \n(2431, 11)                                                 Tile 1 x 4   \n...                                                               ...   \n(44861, 86)             Plate, Modified 1 x 2 with Open O Clip on Top   \n(98138pb175, 86)    Tile, Round 1 x 1 with Black Gauge with Red Po...   \n(3068bpb1657, 150)  Tile 2 x 2 with Groove with LEGO House Logo, '...   \n(4162pb244, 11)     Tile 1 x 8 with &#39;The Brick Moulding Machin...   \n(40502stk01, 0)     Sticker Sheet for Set 40502 - &#40;77891/63398...   \n\n                   itemtype category_id  quantity  \nelement_id                                         \n(2357, 86)             PART           5         5  \n(2420, 11)             PART          26         1  \n(2420, 34)             PART          26         1  \n(2420, 85)             PART          26         3  \n(2431, 11)             PART          37         1  \n...                     ...         ...       ...  \n(44861, 86)            PART          27         1  \n(98138pb175, 86)       PART         812         5  \n(3068bpb1657, 150)     PART          39         3  \n(4162pb244, 11)        PART          39         1  \n(40502stk01, 0)        PART         160         1  \n\n[253 rows x 6 columns]",
      "text/html": "<div>\n<style scoped>\n    .dataframe tbody tr th:only-of-type {\n        vertical-align: middle;\n    }\n\n    .dataframe tbody tr th {\n        vertical-align: top;\n    }\n\n    .dataframe thead th {\n        text-align: right;\n    }\n</style>\n<table border=\"1\" class=\"dataframe\">\n  <thead>\n    <tr style=\"text-align: right;\">\n      <th></th>\n      <th>item_id</th>\n      <th>color_id</th>\n      <th>name</th>\n      <th>itemtype</th>\n      <th>category_id</th>\n      <th>quantity</th>\n    </tr>\n    <tr>\n      <th>element_id</th>\n      <th></th>\n      <th></th>\n      <th></th>\n      <th></th>\n      <th></th>\n      <th></th>\n    </tr>\n  </thead>\n  <tbody>\n    <tr>\n      <th>(2357, 86)</th>\n      <td>2357</td>\n      <td>86</td>\n      <td>Brick 2 x 2 Corner</td>\n      <td>PART</td>\n      <td>5</td>\n      <td>5</td>\n    </tr>\n    <tr>\n      <th>(2420, 11)</th>\n      <td>2420</td>\n      <td>11</td>\n      <td>Plate 2 x 2 Corner</td>\n      <td>PART</td>\n      <td>26</td>\n      <td>1</td>\n    </tr>\n    <tr>\n      <th>(2420, 34)</th>\n      <td>2420</td>\n      <td>34</td>\n      <td>Plate 2 x 2 Corner</td>\n      <td>PART</td>\n      <td>26</td>\n      <td>1</td>\n    </tr>\n    <tr>\n      <th>(2420, 85)</th>\n      <td>2420</td>\n      <td>85</td>\n      <td>Plate 2 x 2 Corner</td>\n      <td>PART</td>\n      <td>26</td>\n      <td>3</td>\n    </tr>\n    <tr>\n      <th>(2431, 11)</th>\n      <td>2431</td>\n      <td>11</td>\n      <td>Tile 1 x 4</td>\n      <td>PART</td>\n      <td>37</td>\n      <td>1</td>\n    </tr>\n    <tr>\n      <th>...</th>\n      <td>...</td>\n      <td>...</td>\n      <td>...</td>\n      <td>...</td>\n      <td>...</td>\n      <td>...</td>\n    </tr>\n    <tr>\n      <th>(44861, 86)</th>\n      <td>44861</td>\n      <td>86</td>\n      <td>Plate, Modified 1 x 2 with Open O Clip on Top</td>\n      <td>PART</td>\n      <td>27</td>\n      <td>1</td>\n    </tr>\n    <tr>\n      <th>(98138pb175, 86)</th>\n      <td>98138pb175</td>\n      <td>86</td>\n      <td>Tile, Round 1 x 1 with Black Gauge with Red Po...</td>\n      <td>PART</td>\n      <td>812</td>\n      <td>5</td>\n    </tr>\n    <tr>\n      <th>(3068bpb1657, 150)</th>\n      <td>3068bpb1657</td>\n      <td>150</td>\n      <td>Tile 2 x 2 with Groove with LEGO House Logo, '...</td>\n      <td>PART</td>\n      <td>39</td>\n      <td>3</td>\n    </tr>\n    <tr>\n      <th>(4162pb244, 11)</th>\n      <td>4162pb244</td>\n      <td>11</td>\n      <td>Tile 1 x 8 with &amp;#39;The Brick Moulding Machin...</td>\n      <td>PART</td>\n      <td>39</td>\n      <td>1</td>\n    </tr>\n    <tr>\n      <th>(40502stk01, 0)</th>\n      <td>40502stk01</td>\n      <td>0</td>\n      <td>Sticker Sheet for Set 40502 - &amp;#40;77891/63398...</td>\n      <td>PART</td>\n      <td>160</td>\n      <td>1</td>\n    </tr>\n  </tbody>\n</table>\n<p>253 rows × 6 columns</p>\n</div>"
     },
     "execution_count": 98,
     "metadata": {},
     "output_type": "execute_result"
    }
   ],
   "source": [
    "press = bd.get_set_inventory('40502-1')\n",
    "press"
   ]
  },
  {
   "cell_type": "code",
   "execution_count": 113,
   "outputs": [
    {
     "name": "stdout",
     "output_type": "stream",
     "text": [
      "CPU times: total: 0 ns\n",
      "Wall time: 104 ms\n"
     ]
    }
   ],
   "source": [
    "%%time\n",
    "time.sleep(.1)\n",
    "x = 10+10**45"
   ],
   "metadata": {
    "collapsed": false,
    "pycharm": {
     "name": "#%%\n"
    }
   }
  },
  {
   "cell_type": "code",
   "execution_count": 71,
   "outputs": [],
   "source": [
    "l1 = bd.get_part_price_summary('2419', '85', new_or_used='N', guide_type='stock')\n",
    "l2 = bd.get_part_price_summary('2420', '7', new_or_used='N', guide_type='stock')"
   ],
   "metadata": {
    "collapsed": false,
    "pycharm": {
     "name": "#%%\n"
    }
   }
  },
  {
   "cell_type": "code",
   "execution_count": 75,
   "outputs": [
    {
     "data": {
      "text/plain": "  item_id itemtype color_id new_or_used currency_code  avg_price  max_price  \\\n0    2419     PART       85           N           USD     0.0802      10.00   \n0    2420     PART        7           N           USD     0.1248       9.98   \n\n   min_price  qty_avg_price  unit_quantity  total_quantity sold_or_stock  \\\n0      0.001         0.0657           6386          164889         stock   \n0      0.001         0.1021          18907         1368930         stock   \n\n          region  \n0  north_america  \n0  north_america  ",
      "text/html": "<div>\n<style scoped>\n    .dataframe tbody tr th:only-of-type {\n        vertical-align: middle;\n    }\n\n    .dataframe tbody tr th {\n        vertical-align: top;\n    }\n\n    .dataframe thead th {\n        text-align: right;\n    }\n</style>\n<table border=\"1\" class=\"dataframe\">\n  <thead>\n    <tr style=\"text-align: right;\">\n      <th></th>\n      <th>item_id</th>\n      <th>itemtype</th>\n      <th>color_id</th>\n      <th>new_or_used</th>\n      <th>currency_code</th>\n      <th>avg_price</th>\n      <th>max_price</th>\n      <th>min_price</th>\n      <th>qty_avg_price</th>\n      <th>unit_quantity</th>\n      <th>total_quantity</th>\n      <th>sold_or_stock</th>\n      <th>region</th>\n    </tr>\n  </thead>\n  <tbody>\n    <tr>\n      <th>0</th>\n      <td>2419</td>\n      <td>PART</td>\n      <td>85</td>\n      <td>N</td>\n      <td>USD</td>\n      <td>0.0802</td>\n      <td>10.00</td>\n      <td>0.001</td>\n      <td>0.0657</td>\n      <td>6386</td>\n      <td>164889</td>\n      <td>stock</td>\n      <td>north_america</td>\n    </tr>\n    <tr>\n      <th>0</th>\n      <td>2420</td>\n      <td>PART</td>\n      <td>7</td>\n      <td>N</td>\n      <td>USD</td>\n      <td>0.1248</td>\n      <td>9.98</td>\n      <td>0.001</td>\n      <td>0.1021</td>\n      <td>18907</td>\n      <td>1368930</td>\n      <td>stock</td>\n      <td>north_america</td>\n    </tr>\n  </tbody>\n</table>\n</div>"
     },
     "execution_count": 75,
     "metadata": {},
     "output_type": "execute_result"
    }
   ],
   "source": [
    "pd.concat([pd.DataFrame(), l1, l2], axis=0)"
   ],
   "metadata": {
    "collapsed": false,
    "pycharm": {
     "name": "#%%\n"
    }
   }
  },
  {
   "cell_type": "code",
   "execution_count": null,
   "outputs": [],
   "source": [
    "bd.get_part_price_summary('2419', '85')"
   ],
   "metadata": {
    "collapsed": false,
    "pycharm": {
     "name": "#%%\n"
    }
   }
  },
  {
   "cell_type": "code",
   "execution_count": 114,
   "outputs": [
    {
     "name": "stdout",
     "output_type": "stream",
     "text": [
      "CPU times: total: 7.72 s\n",
      "Wall time: 7.82 s\n"
     ]
    }
   ],
   "source": [
    "%%time\n",
    "set_price = pricing.eval_set_price(bd, '40502-1', new_or_used='N', guide_type='stock').sort_values('total_part_cost', ascending=False)"
   ],
   "metadata": {
    "collapsed": false,
    "pycharm": {
     "name": "#%%\n"
    }
   }
  },
  {
   "cell_type": "code",
   "execution_count": 115,
   "metadata": {
    "pycharm": {
     "name": "#%%\n"
    }
   },
   "outputs": [],
   "source": [
    "cafe_inv = bd.get_set_inventory('10182-1')"
   ]
  },
  {
   "cell_type": "code",
   "execution_count": 121,
   "outputs": [
    {
     "name": "stdout",
     "output_type": "stream",
     "text": [
      "CPU times: total: 21.5 s\n",
      "Wall time: 1min 20s\n"
     ]
    }
   ],
   "source": [
    "%%time\n",
    "cafe_prices = pricing.get_price_summaries(bd, cafe_inv)"
   ],
   "metadata": {
    "collapsed": false,
    "pycharm": {
     "name": "#%%\n"
    }
   }
  },
  {
   "cell_type": "code",
   "execution_count": 123,
   "metadata": {
    "pycharm": {
     "name": "#%%\n"
    }
   },
   "outputs": [
    {
     "data": {
      "text/plain": "    item_id itemtype color_id new_or_used currency_code  avg_price  max_price  \\\n0      2357     PART        2           N           USD     0.1931      79.20   \n0      2357     PART       63           N           USD     0.1931      79.20   \n0      2357     PART       85           N           USD     0.1931      79.20   \n0      2357     PART       86           N           USD     0.1931      79.20   \n0      2357     PART       88           N           USD     0.1931      79.20   \n..      ...      ...      ...         ...           ...        ...        ...   \n0   3680c02     PART       86           N           USD     0.6642      19.99   \n0   4132c04     PART        1           N           USD     1.0029       3.49   \n0     3747a     PART        2           N           USD     0.6475      45.00   \n0     3747a     PART        1           N           USD     0.6475      45.00   \n0     4460a     PART       59           N           USD     1.2023       8.88   \n\n    min_price  qty_avg_price  unit_quantity  total_quantity sold_or_stock  \\\n0       0.010         0.1502          12227          817080         stock   \n0       0.010         0.1502          12227          817080         stock   \n0       0.010         0.1502          12227          817080         stock   \n0       0.010         0.1502          12232          817075         stock   \n0       0.010         0.1502          12227          817080         stock   \n..        ...            ...            ...             ...           ...   \n0       0.001         0.2144            356            8629         stock   \n0       0.170         0.9287              8              22         stock   \n0       0.001         0.7339            487            4825         stock   \n0       0.001         0.7339            487            4825         stock   \n0       0.100         1.2343            202            4269         stock   \n\n           region  \n0   north_america  \n0   north_america  \n0   north_america  \n0   north_america  \n0   north_america  \n..            ...  \n0   north_america  \n0   north_america  \n0   north_america  \n0   north_america  \n0   north_america  \n\n[259 rows x 13 columns]",
      "text/html": "<div>\n<style scoped>\n    .dataframe tbody tr th:only-of-type {\n        vertical-align: middle;\n    }\n\n    .dataframe tbody tr th {\n        vertical-align: top;\n    }\n\n    .dataframe thead th {\n        text-align: right;\n    }\n</style>\n<table border=\"1\" class=\"dataframe\">\n  <thead>\n    <tr style=\"text-align: right;\">\n      <th></th>\n      <th>item_id</th>\n      <th>itemtype</th>\n      <th>color_id</th>\n      <th>new_or_used</th>\n      <th>currency_code</th>\n      <th>avg_price</th>\n      <th>max_price</th>\n      <th>min_price</th>\n      <th>qty_avg_price</th>\n      <th>unit_quantity</th>\n      <th>total_quantity</th>\n      <th>sold_or_stock</th>\n      <th>region</th>\n    </tr>\n  </thead>\n  <tbody>\n    <tr>\n      <th>0</th>\n      <td>2357</td>\n      <td>PART</td>\n      <td>2</td>\n      <td>N</td>\n      <td>USD</td>\n      <td>0.1931</td>\n      <td>79.20</td>\n      <td>0.010</td>\n      <td>0.1502</td>\n      <td>12227</td>\n      <td>817080</td>\n      <td>stock</td>\n      <td>north_america</td>\n    </tr>\n    <tr>\n      <th>0</th>\n      <td>2357</td>\n      <td>PART</td>\n      <td>63</td>\n      <td>N</td>\n      <td>USD</td>\n      <td>0.1931</td>\n      <td>79.20</td>\n      <td>0.010</td>\n      <td>0.1502</td>\n      <td>12227</td>\n      <td>817080</td>\n      <td>stock</td>\n      <td>north_america</td>\n    </tr>\n    <tr>\n      <th>0</th>\n      <td>2357</td>\n      <td>PART</td>\n      <td>85</td>\n      <td>N</td>\n      <td>USD</td>\n      <td>0.1931</td>\n      <td>79.20</td>\n      <td>0.010</td>\n      <td>0.1502</td>\n      <td>12227</td>\n      <td>817080</td>\n      <td>stock</td>\n      <td>north_america</td>\n    </tr>\n    <tr>\n      <th>0</th>\n      <td>2357</td>\n      <td>PART</td>\n      <td>86</td>\n      <td>N</td>\n      <td>USD</td>\n      <td>0.1931</td>\n      <td>79.20</td>\n      <td>0.010</td>\n      <td>0.1502</td>\n      <td>12232</td>\n      <td>817075</td>\n      <td>stock</td>\n      <td>north_america</td>\n    </tr>\n    <tr>\n      <th>0</th>\n      <td>2357</td>\n      <td>PART</td>\n      <td>88</td>\n      <td>N</td>\n      <td>USD</td>\n      <td>0.1931</td>\n      <td>79.20</td>\n      <td>0.010</td>\n      <td>0.1502</td>\n      <td>12227</td>\n      <td>817080</td>\n      <td>stock</td>\n      <td>north_america</td>\n    </tr>\n    <tr>\n      <th>...</th>\n      <td>...</td>\n      <td>...</td>\n      <td>...</td>\n      <td>...</td>\n      <td>...</td>\n      <td>...</td>\n      <td>...</td>\n      <td>...</td>\n      <td>...</td>\n      <td>...</td>\n      <td>...</td>\n      <td>...</td>\n      <td>...</td>\n    </tr>\n    <tr>\n      <th>0</th>\n      <td>3680c02</td>\n      <td>PART</td>\n      <td>86</td>\n      <td>N</td>\n      <td>USD</td>\n      <td>0.6642</td>\n      <td>19.99</td>\n      <td>0.001</td>\n      <td>0.2144</td>\n      <td>356</td>\n      <td>8629</td>\n      <td>stock</td>\n      <td>north_america</td>\n    </tr>\n    <tr>\n      <th>0</th>\n      <td>4132c04</td>\n      <td>PART</td>\n      <td>1</td>\n      <td>N</td>\n      <td>USD</td>\n      <td>1.0029</td>\n      <td>3.49</td>\n      <td>0.170</td>\n      <td>0.9287</td>\n      <td>8</td>\n      <td>22</td>\n      <td>stock</td>\n      <td>north_america</td>\n    </tr>\n    <tr>\n      <th>0</th>\n      <td>3747a</td>\n      <td>PART</td>\n      <td>2</td>\n      <td>N</td>\n      <td>USD</td>\n      <td>0.6475</td>\n      <td>45.00</td>\n      <td>0.001</td>\n      <td>0.7339</td>\n      <td>487</td>\n      <td>4825</td>\n      <td>stock</td>\n      <td>north_america</td>\n    </tr>\n    <tr>\n      <th>0</th>\n      <td>3747a</td>\n      <td>PART</td>\n      <td>1</td>\n      <td>N</td>\n      <td>USD</td>\n      <td>0.6475</td>\n      <td>45.00</td>\n      <td>0.001</td>\n      <td>0.7339</td>\n      <td>487</td>\n      <td>4825</td>\n      <td>stock</td>\n      <td>north_america</td>\n    </tr>\n    <tr>\n      <th>0</th>\n      <td>4460a</td>\n      <td>PART</td>\n      <td>59</td>\n      <td>N</td>\n      <td>USD</td>\n      <td>1.2023</td>\n      <td>8.88</td>\n      <td>0.100</td>\n      <td>1.2343</td>\n      <td>202</td>\n      <td>4269</td>\n      <td>stock</td>\n      <td>north_america</td>\n    </tr>\n  </tbody>\n</table>\n<p>259 rows × 13 columns</p>\n</div>"
     },
     "execution_count": 123,
     "metadata": {},
     "output_type": "execute_result"
    }
   ],
   "source": [
    "cafe_prices"
   ]
  },
  {
   "cell_type": "code",
   "execution_count": 101,
   "metadata": {
    "pycharm": {
     "name": "#%%\n"
    }
   },
   "outputs": [
    {
     "data": {
      "text/plain": "<Figure size 1200x400 with 1 Axes>",
      "image/png": "[encoded data removed]"
     },
     "metadata": {},
     "output_type": "display_data"
    }
   ],
   "source": [
    "set_price.plot.bar(y=\"total_part_cost\", figsize=(12,4));"
   ]
  },
  {
   "cell_type": "code",
   "execution_count": null,
   "metadata": {
    "pycharm": {
     "name": "#%%\n"
    }
   },
   "outputs": [],
   "source": [
    "from collections import namedtuple"
   ]
  },
  {
   "cell_type": "code",
   "execution_count": null,
   "metadata": {
    "pycharm": {
     "name": "#%%\n"
    }
   },
   "outputs": [],
   "source": [
    "Type = namedtuple('Type', ('PART', 'SET'))"
   ]
  },
  {
   "cell_type": "code",
   "execution_count": null,
   "metadata": {
    "pycharm": {
     "name": "#%%\n"
    }
   },
   "outputs": [],
   "source": [
    "Type._make(('PART', 'SET'))"
   ]
  },
  {
   "cell_type": "code",
   "execution_count": null,
   "metadata": {
    "pycharm": {
     "name": "#%%\n"
    }
   },
   "outputs": [],
   "source": [
    "from pybcm.const import ItemType"
   ]
  },
  {
   "cell_type": "code",
   "execution_count": null,
   "metadata": {
    "pycharm": {
     "name": "#%%\n"
    }
   },
   "outputs": [],
   "source": [
    "ItemType.PART"
   ]
  },
  {
   "cell_type": "code",
   "execution_count": null,
   "metadata": {
    "pycharm": {
     "name": "#%%\n"
    }
   },
   "outputs": [],
   "source": [
    "price_dict = rc.get_price_guide('3006', ItemType.PART, '1', new_or_used='N', guide_type='stock')"
   ]
  },
  {
   "cell_type": "code",
   "execution_count": null,
   "metadata": {
    "pycharm": {
     "name": "#%%\n"
    }
   },
   "outputs": [],
   "source": [
    "prices = pybcm.brick_data._details_df_from_json(price_dict)\n",
    "len(prices)"
   ]
  },
  {
   "cell_type": "code",
   "execution_count": null,
   "metadata": {
    "pycharm": {
     "name": "#%%\n"
    }
   },
   "outputs": [],
   "source": [
    "cats = bd.get_categories()\n",
    "cats.head()"
   ]
  },
  {
   "cell_type": "code",
   "execution_count": null,
   "metadata": {
    "pycharm": {
     "name": "#%%\n"
    }
   },
   "outputs": [],
   "source": [
    "cats['category_name'][:10]"
   ]
  },
  {
   "cell_type": "code",
   "execution_count": null,
   "metadata": {
    "pycharm": {
     "name": "#%%\n"
    }
   },
   "outputs": [],
   "source": [
    "import os\n",
    "os.getcwd()"
   ]
  },
  {
   "cell_type": "code",
   "execution_count": null,
   "metadata": {
    "pycharm": {
     "name": "#%%\n"
    }
   },
   "outputs": [],
   "source": [
    "partslist = r'../resources/Sampledata/Cougar_partslist.csv'\n",
    "pdf = pd.read_csv(partslist, sep='\\t', header=0, engine='python', na_values='', skipfooter=3, dtype={'BLItemNo':str, 'BLColorId':int, 'LDrawColorId':int, 'Qty':int})"
   ]
  },
  {
   "cell_type": "code",
   "execution_count": null,
   "metadata": {
    "pycharm": {
     "name": "#%%\n"
    }
   },
   "outputs": [],
   "source": [
    "pdf.info()"
   ]
  },
  {
   "cell_type": "code",
   "execution_count": null,
   "metadata": {
    "pycharm": {
     "name": "#%%\n"
    }
   },
   "outputs": [],
   "source": [
    "pdf.fillna({'BLColorId':'', 'Qty':0}).head() "
   ]
  },
  {
   "cell_type": "code",
   "execution_count": null,
   "metadata": {
    "pycharm": {
     "name": "#%%\n"
    }
   },
   "outputs": [],
   "source": [
    "(pdf['BLItemNo'] != pdf['LdrawId']).sum()"
   ]
  },
  {
   "cell_type": "code",
   "execution_count": null,
   "metadata": {
    "pycharm": {
     "name": "#%%\n"
    }
   },
   "outputs": [],
   "source": [
    "pdf = pdf.rename(mapper={'BLItemNo':'item', 'BLColorId':'color'}, axis=1)\n",
    "pdf = pdf.drop(columns=['ElementId', 'LdrawId', 'LDrawColorId'])"
   ]
  },
  {
   "cell_type": "code",
   "execution_count": null,
   "metadata": {
    "pycharm": {
     "name": "#%%\n"
    }
   },
   "outputs": [],
   "source": [
    "pdf.head()"
   ]
  },
  {
   "cell_type": "code",
   "execution_count": null,
   "metadata": {
    "pycharm": {
     "name": "#%%\n"
    }
   },
   "outputs": [],
   "source": [
    "bd.get_known_colors('3003', 'PART').head()"
   ]
  },
  {
   "cell_type": "code",
   "execution_count": null,
   "metadata": {
    "pycharm": {
     "name": "#%%\n"
    }
   },
   "outputs": [],
   "source": [
    "inv = bd.rc.get_subsets('9492-1', ItemType.SET)\n",
    "inv"
   ]
  },
  {
   "cell_type": "code",
   "execution_count": null,
   "metadata": {
    "pycharm": {
     "name": "#%%\n"
    }
   },
   "outputs": [],
   "source": [
    "def _json_inv_to_list(inv: list)->dict:\n",
    "    \"\"\"\n",
    "        Convert to a list of dictionaries appropriate for initiliazing a pandas DataFrame\n",
    "    \"\"\"\n",
    "    flat_inv = []\n",
    "    for item in inv:\n",
    "        d = dict()\n",
    "        e = item['entries'][0] # could be multiple matches, but use the first one. \n",
    "        d['item_id']     = e['item']['no']\n",
    "        d['color_id']    = e['color_id']\n",
    "        d['name']        = e['item']['name']\n",
    "        d['itemtype']    = e['item']['type']\n",
    "        d['category_id'] = e['item']['category_id']\n",
    "        d['quantity']    = e['quantity']\n",
    "        element_id = f\"{d['item_id']}|{d['color_id']}\"\n",
    "        flat_inv.append(d)\n",
    "    return flat_inv"
   ]
  },
  {
   "cell_type": "code",
   "execution_count": null,
   "metadata": {
    "pycharm": {
     "name": "#%%\n"
    }
   },
   "outputs": [],
   "source": [
    "df = pd.DataFrame(inv_d, columns=['item_id', 'color_id', 'name', 'itemtype', 'category_id', 'quantity', ])\n",
    "df[['item_id', 'color_id', 'category_id']]=df[['item_id', 'color_id', 'category_id']].astype(str)\n",
    "df.info()"
   ]
  },
  {
   "cell_type": "code",
   "execution_count": null,
   "metadata": {
    "pycharm": {
     "name": "#%%\n"
    }
   },
   "outputs": [],
   "source": [
    "df['element_id'] = df[['item_id', 'color_id']].apply(tuple, axis=1)\n",
    "df.set_index('element_id', inplace=True)\n",
    "df"
   ]
  },
  {
   "cell_type": "code",
   "execution_count": null,
   "metadata": {
    "pycharm": {
     "name": "#%%\n"
    }
   },
   "outputs": [],
   "source": [
    "test_ps = bd.get_part_price_summary('2357', '86')\n",
    "test_ps"
   ]
  },
  {
   "cell_type": "code",
   "execution_count": null,
   "metadata": {
    "pycharm": {
     "name": "#%%\n"
    }
   },
   "outputs": [],
   "source": [
    "inv = bd.get_set_inventory('9492-1')\n",
    "test_inv = inv[0:5]\n",
    "test_inv"
   ]
  },
  {
   "cell_type": "code",
   "execution_count": null,
   "metadata": {
    "pycharm": {
     "name": "#%%\n"
    }
   },
   "outputs": [],
   "source": [
    "test_ps.iloc[0].append(test_inv.iloc[0])"
   ]
  },
  {
   "cell_type": "code",
   "execution_count": null,
   "metadata": {
    "pycharm": {
     "name": "#%%\n"
    }
   },
   "outputs": [],
   "source": [
    "def get_prices_for_row(row):\n",
    "    ps = bd.get_part_price_summary(row['item_id'], row['color_id'])\n",
    "    print(ps[ps['new_or_used']=='N'])\n",
    "    \n",
    "    \n",
    "test_inv.apply(get_prices_for_row, axis=1)"
   ]
  },
  {
   "cell_type": "code",
   "execution_count": null,
   "metadata": {
    "pycharm": {
     "name": "#%%\n"
    }
   },
   "outputs": [],
   "source": [
    "{'A', 'B'}.issubset(['A',]) # converts list to set implicitly"
   ]
  },
  {
   "cell_type": "code",
   "execution_count": null,
   "metadata": {
    "pycharm": {
     "name": "#%%\n"
    }
   },
   "outputs": [],
   "source": [
    "price_summary = pd.DataFrame()\n",
    "for index, row in inv.iterrows():\n",
    "    if row['itemtype'] == ItemType.PART:\n",
    "        lineitem = bd.get_part_price_summary(row['item_id'], row['color_id'], \n",
    "                                             new_or_used=[NewUsed.N,],\n",
    "                                             guide_type=GuideType.stock)\n",
    "        print(lineitem)\n",
    "        price_summary = price_summary.append(lineitem)\n",
    "\n",
    "price_summary"
   ]
  },
  {
   "cell_type": "code",
   "execution_count": null,
   "metadata": {
    "pycharm": {
     "name": "#%%\n"
    }
   },
   "outputs": [],
   "source": [
    "new_stock = price_summary[ (price_summary['new_or_used']=='N') & (price_summary['sold_or_stock']=='stock')]"
   ]
  },
  {
   "cell_type": "code",
   "execution_count": null,
   "metadata": {
    "pycharm": {
     "name": "#%%\n"
    }
   },
   "outputs": [],
   "source": [
    "new_stock['element_id'] = new_stock[['item_id', 'color_id']].apply(tuple, axis=1)\n",
    "new_stock = new_stock.set_index('element_id')\n",
    "new_stock = inv.merge(new_stock)\n",
    "new_stock.head()"
   ]
  },
  {
   "cell_type": "code",
   "execution_count": null,
   "metadata": {
    "pycharm": {
     "name": "#%%\n"
    }
   },
   "outputs": [],
   "source": [
    "new_stock['min_avg_price'] = new_stock[['avg_price', 'qty_avg_price']].min(axis=1)\n",
    "new_stock['total_part_cost'] = new_stock['quantity']*new_stock['min_avg_price']\n",
    "new_stock.sort_values('total_part_cost', ascending=False).head()"
   ]
  },
  {
   "cell_type": "code",
   "execution_count": null,
   "metadata": {
    "pycharm": {
     "name": "#%%\n"
    }
   },
   "outputs": [],
   "source": [
    "new_stock['total_part_cost'].sum()"
   ]
  },
  {
   "cell_type": "code",
   "execution_count": null,
   "metadata": {
    "pycharm": {
     "name": "#%%\n"
    }
   },
   "outputs": [],
   "source": [
    "inv.merge(price_summary)"
   ]
  },
  {
   "cell_type": "code",
   "execution_count": 16,
   "metadata": {
    "pycharm": {
     "name": "#%%\n"
    }
   },
   "outputs": [],
   "source": [
    "def get_price_summaries(bd: BrickData, inv_df: pd.DataFrame, new_or_used=NewUsed.N, guide_type=GuideType.stock):\n",
    "    \"\"\"\n",
    "    Get a dataframe of prices for the entire set\n",
    "    :param bd:\n",
    "    :param inv_df:\n",
    "    :param new_or_used:\n",
    "    :param guide_type:\n",
    "    :return:\n",
    "    \"\"\"\n",
    "    PARTSONLY = True\n",
    "\n",
    "    # get price summaries for each part\n",
    "    price_df = pd.DataFrame()\n",
    "    for index, item in inv_df.iterrows():\n",
    "        if item['itemtype'] == ItemType.PART:\n",
    "            #logger.debug(f\"Getting {item['item_id'], item['color_id']}\")\n",
    "            lineitem = bd.get_part_price_summary(str(item['item_id']), str(item['color_id']),\n",
    "                                                 new_or_used=new_or_used,\n",
    "                                                 guide_type=guide_type)\n",
    "            price_df = price_df.append(lineitem)\n",
    "\n",
    "    # merge prices with inventory\n",
    "\n",
    "    return price_df"
   ]
  },
  {
   "cell_type": "code",
   "execution_count": 17,
   "metadata": {
    "pycharm": {
     "name": "#%%\n"
    }
   },
   "outputs": [],
   "source": [
    "set_list = ['561410-1', '561408-1', '561409-1']"
   ]
  },
  {
   "cell_type": "code",
   "execution_count": 4,
   "metadata": {
    "collapsed": true,
    "jupyter": {
     "outputs_hidden": true
    },
    "pycharm": {
     "name": "#%%\n"
    }
   },
   "outputs": [
    {
     "data": {
      "text/html": [
       "<div>\n",
       "<style scoped>\n",
       "    .dataframe tbody tr th:only-of-type {\n",
       "        vertical-align: middle;\n",
       "    }\n",
       "\n",
       "    .dataframe tbody tr th {\n",
       "        vertical-align: top;\n",
       "    }\n",
       "\n",
       "    .dataframe thead th {\n",
       "        text-align: right;\n",
       "    }\n",
       "</style>\n",
       "<table border=\"1\" class=\"dataframe\">\n",
       "  <thead>\n",
       "    <tr style=\"text-align: right;\">\n",
       "      <th></th>\n",
       "      <th>item_id</th>\n",
       "      <th>color_id</th>\n",
       "      <th>name</th>\n",
       "      <th>itemtype</th>\n",
       "      <th>category_id</th>\n",
       "      <th>quantity</th>\n",
       "    </tr>\n",
       "    <tr>\n",
       "      <th>element_id</th>\n",
       "      <th></th>\n",
       "      <th></th>\n",
       "      <th></th>\n",
       "      <th></th>\n",
       "      <th></th>\n",
       "      <th></th>\n",
       "    </tr>\n",
       "  </thead>\n",
       "  <tbody>\n",
       "    <tr>\n",
       "      <th>(3001, 2)</th>\n",
       "      <td>3001</td>\n",
       "      <td>2</td>\n",
       "      <td>Brick 2 x 4</td>\n",
       "      <td>PART</td>\n",
       "      <td>5</td>\n",
       "      <td>1</td>\n",
       "    </tr>\n",
       "    <tr>\n",
       "      <th>(3004, 71)</th>\n",
       "      <td>3004</td>\n",
       "      <td>71</td>\n",
       "      <td>Brick 1 x 2</td>\n",
       "      <td>PART</td>\n",
       "      <td>5</td>\n",
       "      <td>1</td>\n",
       "    </tr>\n",
       "    <tr>\n",
       "      <th>(3035, 86)</th>\n",
       "      <td>3035</td>\n",
       "      <td>86</td>\n",
       "      <td>Plate 4 x 8</td>\n",
       "      <td>PART</td>\n",
       "      <td>26</td>\n",
       "      <td>1</td>\n",
       "    </tr>\n",
       "    <tr>\n",
       "      <th>(3039, 88)</th>\n",
       "      <td>3039</td>\n",
       "      <td>88</td>\n",
       "      <td>Slope 45 2 x 2</td>\n",
       "      <td>PART</td>\n",
       "      <td>31</td>\n",
       "      <td>1</td>\n",
       "    </tr>\n",
       "    <tr>\n",
       "      <th>(3040, 4)</th>\n",
       "      <td>3040</td>\n",
       "      <td>4</td>\n",
       "      <td>Slope 45 2 x 1</td>\n",
       "      <td>PART</td>\n",
       "      <td>31</td>\n",
       "      <td>2</td>\n",
       "    </tr>\n",
       "    <tr>\n",
       "      <th>(3040, 71)</th>\n",
       "      <td>3040</td>\n",
       "      <td>71</td>\n",
       "      <td>Slope 45 2 x 1</td>\n",
       "      <td>PART</td>\n",
       "      <td>31</td>\n",
       "      <td>2</td>\n",
       "    </tr>\n",
       "    <tr>\n",
       "      <th>(3062b, 88)</th>\n",
       "      <td>3062b</td>\n",
       "      <td>88</td>\n",
       "      <td>Brick, Round 1 x 1 Open Stud</td>\n",
       "      <td>PART</td>\n",
       "      <td>8</td>\n",
       "      <td>2</td>\n",
       "    </tr>\n",
       "    <tr>\n",
       "      <th>(3666, 89)</th>\n",
       "      <td>3666</td>\n",
       "      <td>89</td>\n",
       "      <td>Plate 1 x 6</td>\n",
       "      <td>PART</td>\n",
       "      <td>26</td>\n",
       "      <td>1</td>\n",
       "    </tr>\n",
       "    <tr>\n",
       "      <th>(4073, 4)</th>\n",
       "      <td>4073</td>\n",
       "      <td>4</td>\n",
       "      <td>Plate, Round 1 x 1 Straight Side</td>\n",
       "      <td>PART</td>\n",
       "      <td>28</td>\n",
       "      <td>2</td>\n",
       "    </tr>\n",
       "    <tr>\n",
       "      <th>(4073, 89)</th>\n",
       "      <td>4073</td>\n",
       "      <td>89</td>\n",
       "      <td>Plate, Round 1 x 1 Straight Side</td>\n",
       "      <td>PART</td>\n",
       "      <td>28</td>\n",
       "      <td>2</td>\n",
       "    </tr>\n",
       "    <tr>\n",
       "      <th>(6124, 50)</th>\n",
       "      <td>6124</td>\n",
       "      <td>50</td>\n",
       "      <td>Minifigure, Utensil Magic Wand</td>\n",
       "      <td>PART</td>\n",
       "      <td>18</td>\n",
       "      <td>1</td>\n",
       "    </tr>\n",
       "    <tr>\n",
       "      <th>(6131, 11)</th>\n",
       "      <td>6131</td>\n",
       "      <td>11</td>\n",
       "      <td>Minifigure, Headgear Hat, Wizard / Witch</td>\n",
       "      <td>PART</td>\n",
       "      <td>16</td>\n",
       "      <td>1</td>\n",
       "    </tr>\n",
       "    <tr>\n",
       "      <th>(30103, 11)</th>\n",
       "      <td>30103</td>\n",
       "      <td>11</td>\n",
       "      <td>Bat</td>\n",
       "      <td>PART</td>\n",
       "      <td>146</td>\n",
       "      <td>1</td>\n",
       "    </tr>\n",
       "    <tr>\n",
       "      <th>(4332, 11)</th>\n",
       "      <td>4332</td>\n",
       "      <td>11</td>\n",
       "      <td>Minifigure, Utensil Broom</td>\n",
       "      <td>PART</td>\n",
       "      <td>18</td>\n",
       "      <td>1</td>\n",
       "    </tr>\n",
       "    <tr>\n",
       "      <th>(33291, 36)</th>\n",
       "      <td>33291</td>\n",
       "      <td>36</td>\n",
       "      <td>Plate, Round 1 x 1 with Flower Edge &amp;#40;4 Kno...</td>\n",
       "      <td>PART</td>\n",
       "      <td>28</td>\n",
       "      <td>3</td>\n",
       "    </tr>\n",
       "    <tr>\n",
       "      <th>(33291, 47)</th>\n",
       "      <td>33291</td>\n",
       "      <td>47</td>\n",
       "      <td>Plate, Round 1 x 1 with Flower Edge &amp;#40;4 Kno...</td>\n",
       "      <td>PART</td>\n",
       "      <td>28</td>\n",
       "      <td>1</td>\n",
       "    </tr>\n",
       "    <tr>\n",
       "      <th>(3069b, 89)</th>\n",
       "      <td>3069b</td>\n",
       "      <td>89</td>\n",
       "      <td>Tile 1 x 2 with Groove</td>\n",
       "      <td>PART</td>\n",
       "      <td>37</td>\n",
       "      <td>1</td>\n",
       "    </tr>\n",
       "    <tr>\n",
       "      <th>(87580, 89)</th>\n",
       "      <td>87580</td>\n",
       "      <td>89</td>\n",
       "      <td>Plate, Modified 2 x 2 with Groove and 1 Stud i...</td>\n",
       "      <td>PART</td>\n",
       "      <td>27</td>\n",
       "      <td>1</td>\n",
       "    </tr>\n",
       "    <tr>\n",
       "      <th>(60581, 12)</th>\n",
       "      <td>60581</td>\n",
       "      <td>12</td>\n",
       "      <td>Panel 1 x 4 x 3 with Side Supports - Hollow Studs</td>\n",
       "      <td>PART</td>\n",
       "      <td>91</td>\n",
       "      <td>1</td>\n",
       "    </tr>\n",
       "    <tr>\n",
       "      <th>(4085d, 88)</th>\n",
       "      <td>4085d</td>\n",
       "      <td>88</td>\n",
       "      <td>Plate, Modified 1 x 1 with Clip Vertical - Typ...</td>\n",
       "      <td>PART</td>\n",
       "      <td>27</td>\n",
       "      <td>1</td>\n",
       "    </tr>\n",
       "    <tr>\n",
       "      <th>(3626c, 4)</th>\n",
       "      <td>3626c</td>\n",
       "      <td>4</td>\n",
       "      <td>Minifigure, Head &amp;#40;Plain&amp;#41; - Hollow Stud</td>\n",
       "      <td>PART</td>\n",
       "      <td>238</td>\n",
       "      <td>1</td>\n",
       "    </tr>\n",
       "    <tr>\n",
       "      <th>(4460b, 88)</th>\n",
       "      <td>4460b</td>\n",
       "      <td>88</td>\n",
       "      <td>Slope 75 2 x 1 x 3 - Hollow Stud</td>\n",
       "      <td>PART</td>\n",
       "      <td>31</td>\n",
       "      <td>1</td>\n",
       "    </tr>\n",
       "  </tbody>\n",
       "</table>\n",
       "</div>"
      ],
      "text/plain": [
       "            item_id color_id  \\\n",
       "element_id                     \n",
       "(3001, 2)      3001        2   \n",
       "(3004, 71)     3004       71   \n",
       "(3035, 86)     3035       86   \n",
       "(3039, 88)     3039       88   \n",
       "(3040, 4)      3040        4   \n",
       "(3040, 71)     3040       71   \n",
       "(3062b, 88)   3062b       88   \n",
       "(3666, 89)     3666       89   \n",
       "(4073, 4)      4073        4   \n",
       "(4073, 89)     4073       89   \n",
       "(6124, 50)     6124       50   \n",
       "(6131, 11)     6131       11   \n",
       "(30103, 11)   30103       11   \n",
       "(4332, 11)     4332       11   \n",
       "(33291, 36)   33291       36   \n",
       "(33291, 47)   33291       47   \n",
       "(3069b, 89)   3069b       89   \n",
       "(87580, 89)   87580       89   \n",
       "(60581, 12)   60581       12   \n",
       "(4085d, 88)   4085d       88   \n",
       "(3626c, 4)    3626c        4   \n",
       "(4460b, 88)   4460b       88   \n",
       "\n",
       "                                                          name itemtype  \\\n",
       "element_id                                                                \n",
       "(3001, 2)                                          Brick 2 x 4     PART   \n",
       "(3004, 71)                                         Brick 1 x 2     PART   \n",
       "(3035, 86)                                         Plate 4 x 8     PART   \n",
       "(3039, 88)                                      Slope 45 2 x 2     PART   \n",
       "(3040, 4)                                       Slope 45 2 x 1     PART   \n",
       "(3040, 71)                                      Slope 45 2 x 1     PART   \n",
       "(3062b, 88)                       Brick, Round 1 x 1 Open Stud     PART   \n",
       "(3666, 89)                                         Plate 1 x 6     PART   \n",
       "(4073, 4)                     Plate, Round 1 x 1 Straight Side     PART   \n",
       "(4073, 89)                    Plate, Round 1 x 1 Straight Side     PART   \n",
       "(6124, 50)                      Minifigure, Utensil Magic Wand     PART   \n",
       "(6131, 11)            Minifigure, Headgear Hat, Wizard / Witch     PART   \n",
       "(30103, 11)                                                Bat     PART   \n",
       "(4332, 11)                           Minifigure, Utensil Broom     PART   \n",
       "(33291, 36)  Plate, Round 1 x 1 with Flower Edge &#40;4 Kno...     PART   \n",
       "(33291, 47)  Plate, Round 1 x 1 with Flower Edge &#40;4 Kno...     PART   \n",
       "(3069b, 89)                             Tile 1 x 2 with Groove     PART   \n",
       "(87580, 89)  Plate, Modified 2 x 2 with Groove and 1 Stud i...     PART   \n",
       "(60581, 12)  Panel 1 x 4 x 3 with Side Supports - Hollow Studs     PART   \n",
       "(4085d, 88)  Plate, Modified 1 x 1 with Clip Vertical - Typ...     PART   \n",
       "(3626c, 4)      Minifigure, Head &#40;Plain&#41; - Hollow Stud     PART   \n",
       "(4460b, 88)                   Slope 75 2 x 1 x 3 - Hollow Stud     PART   \n",
       "\n",
       "            category_id  quantity  \n",
       "element_id                         \n",
       "(3001, 2)             5         1  \n",
       "(3004, 71)            5         1  \n",
       "(3035, 86)           26         1  \n",
       "(3039, 88)           31         1  \n",
       "(3040, 4)            31         2  \n",
       "(3040, 71)           31         2  \n",
       "(3062b, 88)           8         2  \n",
       "(3666, 89)           26         1  \n",
       "(4073, 4)            28         2  \n",
       "(4073, 89)           28         2  \n",
       "(6124, 50)           18         1  \n",
       "(6131, 11)           16         1  \n",
       "(30103, 11)         146         1  \n",
       "(4332, 11)           18         1  \n",
       "(33291, 36)          28         3  \n",
       "(33291, 47)          28         1  \n",
       "(3069b, 89)          37         1  \n",
       "(87580, 89)          27         1  \n",
       "(60581, 12)          91         1  \n",
       "(4085d, 88)          27         1  \n",
       "(3626c, 4)          238         1  \n",
       "(4460b, 88)          31         1  "
      ]
     },
     "execution_count": 4,
     "metadata": {},
     "output_type": "execute_result"
    }
   ],
   "source": [
    "inv = bd.get_set_inventory(set_list[0])\n",
    "inv"
   ]
  },
  {
   "cell_type": "code",
   "execution_count": 19,
   "metadata": {
    "pycharm": {
     "name": "#%%\n"
    }
   },
   "outputs": [],
   "source": [
    "summ = get_price_summaries(bd, inv)"
   ]
  },
  {
   "cell_type": "code",
   "execution_count": 6,
   "metadata": {
    "pycharm": {
     "name": "#%%\n"
    }
   },
   "outputs": [],
   "source": [
    "from pybcm.pricing import eval_set_price, get_price_summaries, add_price_to_inv_df"
   ]
  },
  {
   "cell_type": "code",
   "execution_count": 21,
   "metadata": {
    "pycharm": {
     "name": "#%%\n"
    }
   },
   "outputs": [
    {
     "data": {
      "text/html": [
       "<div>\n",
       "<style scoped>\n",
       "    .dataframe tbody tr th:only-of-type {\n",
       "        vertical-align: middle;\n",
       "    }\n",
       "\n",
       "    .dataframe tbody tr th {\n",
       "        vertical-align: top;\n",
       "    }\n",
       "\n",
       "    .dataframe thead th {\n",
       "        text-align: right;\n",
       "    }\n",
       "</style>\n",
       "<table border=\"1\" class=\"dataframe\">\n",
       "  <thead>\n",
       "    <tr style=\"text-align: right;\">\n",
       "      <th></th>\n",
       "      <th>item_id</th>\n",
       "      <th>color_id</th>\n",
       "      <th>name</th>\n",
       "      <th>itemtype_x</th>\n",
       "      <th>category_id</th>\n",
       "      <th>quantity</th>\n",
       "      <th>itemtype_y</th>\n",
       "      <th>new_or_used</th>\n",
       "      <th>currency_code</th>\n",
       "      <th>avg_price</th>\n",
       "      <th>max_price</th>\n",
       "      <th>min_price</th>\n",
       "      <th>qty_avg_price</th>\n",
       "      <th>unit_quantity</th>\n",
       "      <th>total_quantity</th>\n",
       "      <th>sold_or_stock</th>\n",
       "      <th>region</th>\n",
       "    </tr>\n",
       "  </thead>\n",
       "  <tbody>\n",
       "    <tr>\n",
       "      <th>0</th>\n",
       "      <td>3001</td>\n",
       "      <td>2</td>\n",
       "      <td>Brick 2 x 4</td>\n",
       "      <td>PART</td>\n",
       "      <td>5</td>\n",
       "      <td>1</td>\n",
       "      <td>PART</td>\n",
       "      <td>N</td>\n",
       "      <td>USD</td>\n",
       "      <td>0.2120</td>\n",
       "      <td>48.0000</td>\n",
       "      <td>0.0100</td>\n",
       "      <td>0.2267</td>\n",
       "      <td>12387</td>\n",
       "      <td>1118587</td>\n",
       "      <td>stock</td>\n",
       "      <td>north_america</td>\n",
       "    </tr>\n",
       "    <tr>\n",
       "      <th>1</th>\n",
       "      <td>3004</td>\n",
       "      <td>71</td>\n",
       "      <td>Brick 1 x 2</td>\n",
       "      <td>PART</td>\n",
       "      <td>5</td>\n",
       "      <td>1</td>\n",
       "      <td>PART</td>\n",
       "      <td>N</td>\n",
       "      <td>USD</td>\n",
       "      <td>0.0900</td>\n",
       "      <td>47.6240</td>\n",
       "      <td>0.0090</td>\n",
       "      <td>0.0689</td>\n",
       "      <td>19366</td>\n",
       "      <td>3618540</td>\n",
       "      <td>stock</td>\n",
       "      <td>north_america</td>\n",
       "    </tr>\n",
       "    <tr>\n",
       "      <th>2</th>\n",
       "      <td>3035</td>\n",
       "      <td>86</td>\n",
       "      <td>Plate 4 x 8</td>\n",
       "      <td>PART</td>\n",
       "      <td>26</td>\n",
       "      <td>1</td>\n",
       "      <td>PART</td>\n",
       "      <td>N</td>\n",
       "      <td>USD</td>\n",
       "      <td>0.3124</td>\n",
       "      <td>18.4100</td>\n",
       "      <td>0.0500</td>\n",
       "      <td>0.3413</td>\n",
       "      <td>5170</td>\n",
       "      <td>86333</td>\n",
       "      <td>stock</td>\n",
       "      <td>north_america</td>\n",
       "    </tr>\n",
       "    <tr>\n",
       "      <th>3</th>\n",
       "      <td>3039</td>\n",
       "      <td>88</td>\n",
       "      <td>Slope 45 2 x 2</td>\n",
       "      <td>PART</td>\n",
       "      <td>31</td>\n",
       "      <td>1</td>\n",
       "      <td>PART</td>\n",
       "      <td>N</td>\n",
       "      <td>USD</td>\n",
       "      <td>0.0693</td>\n",
       "      <td>3.6190</td>\n",
       "      <td>0.0037</td>\n",
       "      <td>0.0551</td>\n",
       "      <td>12306</td>\n",
       "      <td>887156</td>\n",
       "      <td>stock</td>\n",
       "      <td>north_america</td>\n",
       "    </tr>\n",
       "    <tr>\n",
       "      <th>4</th>\n",
       "      <td>3040</td>\n",
       "      <td>4</td>\n",
       "      <td>Slope 45 2 x 1</td>\n",
       "      <td>PART</td>\n",
       "      <td>31</td>\n",
       "      <td>2</td>\n",
       "      <td>PART</td>\n",
       "      <td>N</td>\n",
       "      <td>USD</td>\n",
       "      <td>0.0583</td>\n",
       "      <td>27.0000</td>\n",
       "      <td>0.0060</td>\n",
       "      <td>0.0456</td>\n",
       "      <td>14294</td>\n",
       "      <td>1231956</td>\n",
       "      <td>stock</td>\n",
       "      <td>north_america</td>\n",
       "    </tr>\n",
       "    <tr>\n",
       "      <th>5</th>\n",
       "      <td>3040</td>\n",
       "      <td>71</td>\n",
       "      <td>Slope 45 2 x 1</td>\n",
       "      <td>PART</td>\n",
       "      <td>31</td>\n",
       "      <td>2</td>\n",
       "      <td>PART</td>\n",
       "      <td>N</td>\n",
       "      <td>USD</td>\n",
       "      <td>0.0583</td>\n",
       "      <td>27.0000</td>\n",
       "      <td>0.0060</td>\n",
       "      <td>0.0456</td>\n",
       "      <td>14294</td>\n",
       "      <td>1231956</td>\n",
       "      <td>stock</td>\n",
       "      <td>north_america</td>\n",
       "    </tr>\n",
       "    <tr>\n",
       "      <th>6</th>\n",
       "      <td>3062b</td>\n",
       "      <td>88</td>\n",
       "      <td>Brick, Round 1 x 1 Open Stud</td>\n",
       "      <td>PART</td>\n",
       "      <td>8</td>\n",
       "      <td>2</td>\n",
       "      <td>PART</td>\n",
       "      <td>N</td>\n",
       "      <td>USD</td>\n",
       "      <td>0.0674</td>\n",
       "      <td>48.0000</td>\n",
       "      <td>0.0040</td>\n",
       "      <td>0.0649</td>\n",
       "      <td>14515</td>\n",
       "      <td>1012614</td>\n",
       "      <td>stock</td>\n",
       "      <td>north_america</td>\n",
       "    </tr>\n",
       "    <tr>\n",
       "      <th>7</th>\n",
       "      <td>3666</td>\n",
       "      <td>89</td>\n",
       "      <td>Plate 1 x 6</td>\n",
       "      <td>PART</td>\n",
       "      <td>26</td>\n",
       "      <td>1</td>\n",
       "      <td>PART</td>\n",
       "      <td>N</td>\n",
       "      <td>USD</td>\n",
       "      <td>0.1038</td>\n",
       "      <td>5.4945</td>\n",
       "      <td>0.0100</td>\n",
       "      <td>0.1020</td>\n",
       "      <td>12308</td>\n",
       "      <td>695184</td>\n",
       "      <td>stock</td>\n",
       "      <td>north_america</td>\n",
       "    </tr>\n",
       "    <tr>\n",
       "      <th>8</th>\n",
       "      <td>4073</td>\n",
       "      <td>4</td>\n",
       "      <td>Plate, Round 1 x 1 Straight Side</td>\n",
       "      <td>PART</td>\n",
       "      <td>28</td>\n",
       "      <td>2</td>\n",
       "      <td>PART</td>\n",
       "      <td>N</td>\n",
       "      <td>USD</td>\n",
       "      <td>0.0406</td>\n",
       "      <td>9.9900</td>\n",
       "      <td>0.0020</td>\n",
       "      <td>0.0294</td>\n",
       "      <td>28699</td>\n",
       "      <td>9219797</td>\n",
       "      <td>stock</td>\n",
       "      <td>north_america</td>\n",
       "    </tr>\n",
       "    <tr>\n",
       "      <th>9</th>\n",
       "      <td>4073</td>\n",
       "      <td>89</td>\n",
       "      <td>Plate, Round 1 x 1 Straight Side</td>\n",
       "      <td>PART</td>\n",
       "      <td>28</td>\n",
       "      <td>2</td>\n",
       "      <td>PART</td>\n",
       "      <td>N</td>\n",
       "      <td>USD</td>\n",
       "      <td>0.0406</td>\n",
       "      <td>9.9900</td>\n",
       "      <td>0.0020</td>\n",
       "      <td>0.0294</td>\n",
       "      <td>28699</td>\n",
       "      <td>9219797</td>\n",
       "      <td>stock</td>\n",
       "      <td>north_america</td>\n",
       "    </tr>\n",
       "    <tr>\n",
       "      <th>10</th>\n",
       "      <td>6124</td>\n",
       "      <td>50</td>\n",
       "      <td>Minifigure, Utensil Magic Wand</td>\n",
       "      <td>PART</td>\n",
       "      <td>18</td>\n",
       "      <td>1</td>\n",
       "      <td>PART</td>\n",
       "      <td>N</td>\n",
       "      <td>USD</td>\n",
       "      <td>0.2851</td>\n",
       "      <td>8.9300</td>\n",
       "      <td>0.0300</td>\n",
       "      <td>0.1577</td>\n",
       "      <td>391</td>\n",
       "      <td>21957</td>\n",
       "      <td>stock</td>\n",
       "      <td>north_america</td>\n",
       "    </tr>\n",
       "    <tr>\n",
       "      <th>11</th>\n",
       "      <td>6131</td>\n",
       "      <td>11</td>\n",
       "      <td>Minifigure, Headgear Hat, Wizard / Witch</td>\n",
       "      <td>PART</td>\n",
       "      <td>16</td>\n",
       "      <td>1</td>\n",
       "      <td>PART</td>\n",
       "      <td>N</td>\n",
       "      <td>USD</td>\n",
       "      <td>0.9400</td>\n",
       "      <td>7.7260</td>\n",
       "      <td>0.0720</td>\n",
       "      <td>0.4442</td>\n",
       "      <td>289</td>\n",
       "      <td>7498</td>\n",
       "      <td>stock</td>\n",
       "      <td>north_america</td>\n",
       "    </tr>\n",
       "    <tr>\n",
       "      <th>12</th>\n",
       "      <td>30103</td>\n",
       "      <td>11</td>\n",
       "      <td>Bat</td>\n",
       "      <td>PART</td>\n",
       "      <td>146</td>\n",
       "      <td>1</td>\n",
       "      <td>PART</td>\n",
       "      <td>N</td>\n",
       "      <td>USD</td>\n",
       "      <td>0.2629</td>\n",
       "      <td>6.2000</td>\n",
       "      <td>0.0800</td>\n",
       "      <td>0.1869</td>\n",
       "      <td>266</td>\n",
       "      <td>7374</td>\n",
       "      <td>stock</td>\n",
       "      <td>north_america</td>\n",
       "    </tr>\n",
       "    <tr>\n",
       "      <th>13</th>\n",
       "      <td>4332</td>\n",
       "      <td>11</td>\n",
       "      <td>Minifigure, Utensil Broom</td>\n",
       "      <td>PART</td>\n",
       "      <td>18</td>\n",
       "      <td>1</td>\n",
       "      <td>PART</td>\n",
       "      <td>N</td>\n",
       "      <td>USD</td>\n",
       "      <td>0.2736</td>\n",
       "      <td>2.3000</td>\n",
       "      <td>0.0400</td>\n",
       "      <td>0.2520</td>\n",
       "      <td>562</td>\n",
       "      <td>5644</td>\n",
       "      <td>stock</td>\n",
       "      <td>north_america</td>\n",
       "    </tr>\n",
       "    <tr>\n",
       "      <th>14</th>\n",
       "      <td>33291</td>\n",
       "      <td>36</td>\n",
       "      <td>Plate, Round 1 x 1 with Flower Edge &amp;#40;4 Kno...</td>\n",
       "      <td>PART</td>\n",
       "      <td>28</td>\n",
       "      <td>3</td>\n",
       "      <td>PART</td>\n",
       "      <td>N</td>\n",
       "      <td>USD</td>\n",
       "      <td>0.0644</td>\n",
       "      <td>2.5000</td>\n",
       "      <td>0.0100</td>\n",
       "      <td>0.0534</td>\n",
       "      <td>5159</td>\n",
       "      <td>673804</td>\n",
       "      <td>stock</td>\n",
       "      <td>north_america</td>\n",
       "    </tr>\n",
       "    <tr>\n",
       "      <th>15</th>\n",
       "      <td>33291</td>\n",
       "      <td>47</td>\n",
       "      <td>Plate, Round 1 x 1 with Flower Edge &amp;#40;4 Kno...</td>\n",
       "      <td>PART</td>\n",
       "      <td>28</td>\n",
       "      <td>1</td>\n",
       "      <td>PART</td>\n",
       "      <td>N</td>\n",
       "      <td>USD</td>\n",
       "      <td>0.0644</td>\n",
       "      <td>2.5000</td>\n",
       "      <td>0.0100</td>\n",
       "      <td>0.0534</td>\n",
       "      <td>5159</td>\n",
       "      <td>673804</td>\n",
       "      <td>stock</td>\n",
       "      <td>north_america</td>\n",
       "    </tr>\n",
       "    <tr>\n",
       "      <th>16</th>\n",
       "      <td>3069b</td>\n",
       "      <td>89</td>\n",
       "      <td>Tile 1 x 2 with Groove</td>\n",
       "      <td>PART</td>\n",
       "      <td>37</td>\n",
       "      <td>1</td>\n",
       "      <td>PART</td>\n",
       "      <td>N</td>\n",
       "      <td>USD</td>\n",
       "      <td>0.1059</td>\n",
       "      <td>10.0000</td>\n",
       "      <td>0.0050</td>\n",
       "      <td>0.0802</td>\n",
       "      <td>17131</td>\n",
       "      <td>2837946</td>\n",
       "      <td>stock</td>\n",
       "      <td>north_america</td>\n",
       "    </tr>\n",
       "    <tr>\n",
       "      <th>17</th>\n",
       "      <td>87580</td>\n",
       "      <td>89</td>\n",
       "      <td>Plate, Modified 2 x 2 with Groove and 1 Stud i...</td>\n",
       "      <td>PART</td>\n",
       "      <td>27</td>\n",
       "      <td>1</td>\n",
       "      <td>PART</td>\n",
       "      <td>N</td>\n",
       "      <td>USD</td>\n",
       "      <td>0.0905</td>\n",
       "      <td>4.1642</td>\n",
       "      <td>0.0070</td>\n",
       "      <td>0.0765</td>\n",
       "      <td>12836</td>\n",
       "      <td>1100000</td>\n",
       "      <td>stock</td>\n",
       "      <td>north_america</td>\n",
       "    </tr>\n",
       "    <tr>\n",
       "      <th>18</th>\n",
       "      <td>60581</td>\n",
       "      <td>12</td>\n",
       "      <td>Panel 1 x 4 x 3 with Side Supports - Hollow Studs</td>\n",
       "      <td>PART</td>\n",
       "      <td>91</td>\n",
       "      <td>1</td>\n",
       "      <td>PART</td>\n",
       "      <td>N</td>\n",
       "      <td>USD</td>\n",
       "      <td>0.2626</td>\n",
       "      <td>40.0000</td>\n",
       "      <td>0.0298</td>\n",
       "      <td>0.2435</td>\n",
       "      <td>2682</td>\n",
       "      <td>41321</td>\n",
       "      <td>stock</td>\n",
       "      <td>north_america</td>\n",
       "    </tr>\n",
       "    <tr>\n",
       "      <th>19</th>\n",
       "      <td>4085d</td>\n",
       "      <td>88</td>\n",
       "      <td>Plate, Modified 1 x 1 with Clip Vertical - Typ...</td>\n",
       "      <td>PART</td>\n",
       "      <td>27</td>\n",
       "      <td>1</td>\n",
       "      <td>PART</td>\n",
       "      <td>N</td>\n",
       "      <td>USD</td>\n",
       "      <td>0.0556</td>\n",
       "      <td>6.3450</td>\n",
       "      <td>0.0080</td>\n",
       "      <td>0.0461</td>\n",
       "      <td>6316</td>\n",
       "      <td>492017</td>\n",
       "      <td>stock</td>\n",
       "      <td>north_america</td>\n",
       "    </tr>\n",
       "    <tr>\n",
       "      <th>20</th>\n",
       "      <td>3626c</td>\n",
       "      <td>4</td>\n",
       "      <td>Minifigure, Head &amp;#40;Plain&amp;#41; - Hollow Stud</td>\n",
       "      <td>PART</td>\n",
       "      <td>238</td>\n",
       "      <td>1</td>\n",
       "      <td>PART</td>\n",
       "      <td>N</td>\n",
       "      <td>USD</td>\n",
       "      <td>0.3662</td>\n",
       "      <td>8.8605</td>\n",
       "      <td>0.0800</td>\n",
       "      <td>0.3353</td>\n",
       "      <td>2914</td>\n",
       "      <td>139093</td>\n",
       "      <td>stock</td>\n",
       "      <td>north_america</td>\n",
       "    </tr>\n",
       "    <tr>\n",
       "      <th>21</th>\n",
       "      <td>4460b</td>\n",
       "      <td>88</td>\n",
       "      <td>Slope 75 2 x 1 x 3 - Hollow Stud</td>\n",
       "      <td>PART</td>\n",
       "      <td>31</td>\n",
       "      <td>1</td>\n",
       "      <td>PART</td>\n",
       "      <td>N</td>\n",
       "      <td>USD</td>\n",
       "      <td>0.1818</td>\n",
       "      <td>9.6736</td>\n",
       "      <td>0.0250</td>\n",
       "      <td>0.1557</td>\n",
       "      <td>3691</td>\n",
       "      <td>92604</td>\n",
       "      <td>stock</td>\n",
       "      <td>north_america</td>\n",
       "    </tr>\n",
       "  </tbody>\n",
       "</table>\n",
       "</div>"
      ],
      "text/plain": [
       "   item_id color_id                                               name  \\\n",
       "0     3001        2                                        Brick 2 x 4   \n",
       "1     3004       71                                        Brick 1 x 2   \n",
       "2     3035       86                                        Plate 4 x 8   \n",
       "3     3039       88                                     Slope 45 2 x 2   \n",
       "4     3040        4                                     Slope 45 2 x 1   \n",
       "5     3040       71                                     Slope 45 2 x 1   \n",
       "6    3062b       88                       Brick, Round 1 x 1 Open Stud   \n",
       "7     3666       89                                        Plate 1 x 6   \n",
       "8     4073        4                   Plate, Round 1 x 1 Straight Side   \n",
       "9     4073       89                   Plate, Round 1 x 1 Straight Side   \n",
       "10    6124       50                     Minifigure, Utensil Magic Wand   \n",
       "11    6131       11           Minifigure, Headgear Hat, Wizard / Witch   \n",
       "12   30103       11                                                Bat   \n",
       "13    4332       11                          Minifigure, Utensil Broom   \n",
       "14   33291       36  Plate, Round 1 x 1 with Flower Edge &#40;4 Kno...   \n",
       "15   33291       47  Plate, Round 1 x 1 with Flower Edge &#40;4 Kno...   \n",
       "16   3069b       89                             Tile 1 x 2 with Groove   \n",
       "17   87580       89  Plate, Modified 2 x 2 with Groove and 1 Stud i...   \n",
       "18   60581       12  Panel 1 x 4 x 3 with Side Supports - Hollow Studs   \n",
       "19   4085d       88  Plate, Modified 1 x 1 with Clip Vertical - Typ...   \n",
       "20   3626c        4     Minifigure, Head &#40;Plain&#41; - Hollow Stud   \n",
       "21   4460b       88                   Slope 75 2 x 1 x 3 - Hollow Stud   \n",
       "\n",
       "   itemtype_x category_id  quantity itemtype_y new_or_used currency_code  \\\n",
       "0        PART           5         1       PART           N           USD   \n",
       "1        PART           5         1       PART           N           USD   \n",
       "2        PART          26         1       PART           N           USD   \n",
       "3        PART          31         1       PART           N           USD   \n",
       "4        PART          31         2       PART           N           USD   \n",
       "5        PART          31         2       PART           N           USD   \n",
       "6        PART           8         2       PART           N           USD   \n",
       "7        PART          26         1       PART           N           USD   \n",
       "8        PART          28         2       PART           N           USD   \n",
       "9        PART          28         2       PART           N           USD   \n",
       "10       PART          18         1       PART           N           USD   \n",
       "11       PART          16         1       PART           N           USD   \n",
       "12       PART         146         1       PART           N           USD   \n",
       "13       PART          18         1       PART           N           USD   \n",
       "14       PART          28         3       PART           N           USD   \n",
       "15       PART          28         1       PART           N           USD   \n",
       "16       PART          37         1       PART           N           USD   \n",
       "17       PART          27         1       PART           N           USD   \n",
       "18       PART          91         1       PART           N           USD   \n",
       "19       PART          27         1       PART           N           USD   \n",
       "20       PART         238         1       PART           N           USD   \n",
       "21       PART          31         1       PART           N           USD   \n",
       "\n",
       "    avg_price  max_price  min_price  qty_avg_price  unit_quantity  \\\n",
       "0      0.2120    48.0000     0.0100         0.2267          12387   \n",
       "1      0.0900    47.6240     0.0090         0.0689          19366   \n",
       "2      0.3124    18.4100     0.0500         0.3413           5170   \n",
       "3      0.0693     3.6190     0.0037         0.0551          12306   \n",
       "4      0.0583    27.0000     0.0060         0.0456          14294   \n",
       "5      0.0583    27.0000     0.0060         0.0456          14294   \n",
       "6      0.0674    48.0000     0.0040         0.0649          14515   \n",
       "7      0.1038     5.4945     0.0100         0.1020          12308   \n",
       "8      0.0406     9.9900     0.0020         0.0294          28699   \n",
       "9      0.0406     9.9900     0.0020         0.0294          28699   \n",
       "10     0.2851     8.9300     0.0300         0.1577            391   \n",
       "11     0.9400     7.7260     0.0720         0.4442            289   \n",
       "12     0.2629     6.2000     0.0800         0.1869            266   \n",
       "13     0.2736     2.3000     0.0400         0.2520            562   \n",
       "14     0.0644     2.5000     0.0100         0.0534           5159   \n",
       "15     0.0644     2.5000     0.0100         0.0534           5159   \n",
       "16     0.1059    10.0000     0.0050         0.0802          17131   \n",
       "17     0.0905     4.1642     0.0070         0.0765          12836   \n",
       "18     0.2626    40.0000     0.0298         0.2435           2682   \n",
       "19     0.0556     6.3450     0.0080         0.0461           6316   \n",
       "20     0.3662     8.8605     0.0800         0.3353           2914   \n",
       "21     0.1818     9.6736     0.0250         0.1557           3691   \n",
       "\n",
       "    total_quantity sold_or_stock         region  \n",
       "0          1118587         stock  north_america  \n",
       "1          3618540         stock  north_america  \n",
       "2            86333         stock  north_america  \n",
       "3           887156         stock  north_america  \n",
       "4          1231956         stock  north_america  \n",
       "5          1231956         stock  north_america  \n",
       "6          1012614         stock  north_america  \n",
       "7           695184         stock  north_america  \n",
       "8          9219797         stock  north_america  \n",
       "9          9219797         stock  north_america  \n",
       "10           21957         stock  north_america  \n",
       "11            7498         stock  north_america  \n",
       "12            7374         stock  north_america  \n",
       "13            5644         stock  north_america  \n",
       "14          673804         stock  north_america  \n",
       "15          673804         stock  north_america  \n",
       "16         2837946         stock  north_america  \n",
       "17         1100000         stock  north_america  \n",
       "18           41321         stock  north_america  \n",
       "19          492017         stock  north_america  \n",
       "20          139093         stock  north_america  \n",
       "21           92604         stock  north_america  "
      ]
     },
     "execution_count": 21,
     "metadata": {},
     "output_type": "execute_result"
    }
   ],
   "source": [
    "inv.merge(summ, on=['item_id', 'color_id'])"
   ]
  },
  {
   "cell_type": "code",
   "execution_count": 7,
   "metadata": {
    "pycharm": {
     "name": "#%%\n"
    }
   },
   "outputs": [
    {
     "data": {
      "text/html": [
       "<div>\n",
       "<style scoped>\n",
       "    .dataframe tbody tr th:only-of-type {\n",
       "        vertical-align: middle;\n",
       "    }\n",
       "\n",
       "    .dataframe tbody tr th {\n",
       "        vertical-align: top;\n",
       "    }\n",
       "\n",
       "    .dataframe thead th {\n",
       "        text-align: right;\n",
       "    }\n",
       "</style>\n",
       "<table border=\"1\" class=\"dataframe\">\n",
       "  <thead>\n",
       "    <tr style=\"text-align: right;\">\n",
       "      <th></th>\n",
       "      <th>item_id</th>\n",
       "      <th>itemtype</th>\n",
       "      <th>color_id</th>\n",
       "      <th>new_or_used</th>\n",
       "      <th>currency_code</th>\n",
       "      <th>avg_price</th>\n",
       "      <th>max_price</th>\n",
       "      <th>min_price</th>\n",
       "      <th>qty_avg_price</th>\n",
       "      <th>unit_quantity</th>\n",
       "      <th>total_quantity</th>\n",
       "      <th>sold_or_stock</th>\n",
       "      <th>region</th>\n",
       "    </tr>\n",
       "  </thead>\n",
       "  <tbody>\n",
       "    <tr>\n",
       "      <th>0</th>\n",
       "      <td>3001</td>\n",
       "      <td>PART</td>\n",
       "      <td>2</td>\n",
       "      <td>N</td>\n",
       "      <td>USD</td>\n",
       "      <td>0.2120</td>\n",
       "      <td>48.0000</td>\n",
       "      <td>0.0100</td>\n",
       "      <td>0.2267</td>\n",
       "      <td>12387</td>\n",
       "      <td>1118587</td>\n",
       "      <td>stock</td>\n",
       "      <td>north_america</td>\n",
       "    </tr>\n",
       "    <tr>\n",
       "      <th>0</th>\n",
       "      <td>3004</td>\n",
       "      <td>PART</td>\n",
       "      <td>71</td>\n",
       "      <td>N</td>\n",
       "      <td>USD</td>\n",
       "      <td>0.0900</td>\n",
       "      <td>47.6240</td>\n",
       "      <td>0.0090</td>\n",
       "      <td>0.0689</td>\n",
       "      <td>19366</td>\n",
       "      <td>3618540</td>\n",
       "      <td>stock</td>\n",
       "      <td>north_america</td>\n",
       "    </tr>\n",
       "    <tr>\n",
       "      <th>0</th>\n",
       "      <td>3035</td>\n",
       "      <td>PART</td>\n",
       "      <td>86</td>\n",
       "      <td>N</td>\n",
       "      <td>USD</td>\n",
       "      <td>0.3124</td>\n",
       "      <td>18.4100</td>\n",
       "      <td>0.0500</td>\n",
       "      <td>0.3413</td>\n",
       "      <td>5170</td>\n",
       "      <td>86333</td>\n",
       "      <td>stock</td>\n",
       "      <td>north_america</td>\n",
       "    </tr>\n",
       "    <tr>\n",
       "      <th>0</th>\n",
       "      <td>3039</td>\n",
       "      <td>PART</td>\n",
       "      <td>88</td>\n",
       "      <td>N</td>\n",
       "      <td>USD</td>\n",
       "      <td>0.0693</td>\n",
       "      <td>3.6190</td>\n",
       "      <td>0.0037</td>\n",
       "      <td>0.0551</td>\n",
       "      <td>12306</td>\n",
       "      <td>887156</td>\n",
       "      <td>stock</td>\n",
       "      <td>north_america</td>\n",
       "    </tr>\n",
       "    <tr>\n",
       "      <th>0</th>\n",
       "      <td>3040</td>\n",
       "      <td>PART</td>\n",
       "      <td>4</td>\n",
       "      <td>N</td>\n",
       "      <td>USD</td>\n",
       "      <td>0.0583</td>\n",
       "      <td>27.0000</td>\n",
       "      <td>0.0060</td>\n",
       "      <td>0.0456</td>\n",
       "      <td>14294</td>\n",
       "      <td>1231956</td>\n",
       "      <td>stock</td>\n",
       "      <td>north_america</td>\n",
       "    </tr>\n",
       "    <tr>\n",
       "      <th>0</th>\n",
       "      <td>3040</td>\n",
       "      <td>PART</td>\n",
       "      <td>71</td>\n",
       "      <td>N</td>\n",
       "      <td>USD</td>\n",
       "      <td>0.0583</td>\n",
       "      <td>27.0000</td>\n",
       "      <td>0.0060</td>\n",
       "      <td>0.0456</td>\n",
       "      <td>14294</td>\n",
       "      <td>1231956</td>\n",
       "      <td>stock</td>\n",
       "      <td>north_america</td>\n",
       "    </tr>\n",
       "    <tr>\n",
       "      <th>0</th>\n",
       "      <td>3062b</td>\n",
       "      <td>PART</td>\n",
       "      <td>88</td>\n",
       "      <td>N</td>\n",
       "      <td>USD</td>\n",
       "      <td>0.0674</td>\n",
       "      <td>48.0000</td>\n",
       "      <td>0.0040</td>\n",
       "      <td>0.0649</td>\n",
       "      <td>14515</td>\n",
       "      <td>1012614</td>\n",
       "      <td>stock</td>\n",
       "      <td>north_america</td>\n",
       "    </tr>\n",
       "    <tr>\n",
       "      <th>0</th>\n",
       "      <td>3666</td>\n",
       "      <td>PART</td>\n",
       "      <td>89</td>\n",
       "      <td>N</td>\n",
       "      <td>USD</td>\n",
       "      <td>0.1038</td>\n",
       "      <td>5.4945</td>\n",
       "      <td>0.0100</td>\n",
       "      <td>0.1020</td>\n",
       "      <td>12308</td>\n",
       "      <td>695184</td>\n",
       "      <td>stock</td>\n",
       "      <td>north_america</td>\n",
       "    </tr>\n",
       "    <tr>\n",
       "      <th>0</th>\n",
       "      <td>4073</td>\n",
       "      <td>PART</td>\n",
       "      <td>4</td>\n",
       "      <td>N</td>\n",
       "      <td>USD</td>\n",
       "      <td>0.0406</td>\n",
       "      <td>9.9900</td>\n",
       "      <td>0.0020</td>\n",
       "      <td>0.0294</td>\n",
       "      <td>28699</td>\n",
       "      <td>9219797</td>\n",
       "      <td>stock</td>\n",
       "      <td>north_america</td>\n",
       "    </tr>\n",
       "    <tr>\n",
       "      <th>0</th>\n",
       "      <td>4073</td>\n",
       "      <td>PART</td>\n",
       "      <td>89</td>\n",
       "      <td>N</td>\n",
       "      <td>USD</td>\n",
       "      <td>0.0406</td>\n",
       "      <td>9.9900</td>\n",
       "      <td>0.0020</td>\n",
       "      <td>0.0294</td>\n",
       "      <td>28699</td>\n",
       "      <td>9219797</td>\n",
       "      <td>stock</td>\n",
       "      <td>north_america</td>\n",
       "    </tr>\n",
       "    <tr>\n",
       "      <th>0</th>\n",
       "      <td>6124</td>\n",
       "      <td>PART</td>\n",
       "      <td>50</td>\n",
       "      <td>N</td>\n",
       "      <td>USD</td>\n",
       "      <td>0.2851</td>\n",
       "      <td>8.9300</td>\n",
       "      <td>0.0300</td>\n",
       "      <td>0.1577</td>\n",
       "      <td>391</td>\n",
       "      <td>21957</td>\n",
       "      <td>stock</td>\n",
       "      <td>north_america</td>\n",
       "    </tr>\n",
       "    <tr>\n",
       "      <th>0</th>\n",
       "      <td>6131</td>\n",
       "      <td>PART</td>\n",
       "      <td>11</td>\n",
       "      <td>N</td>\n",
       "      <td>USD</td>\n",
       "      <td>0.9400</td>\n",
       "      <td>7.7260</td>\n",
       "      <td>0.0720</td>\n",
       "      <td>0.4442</td>\n",
       "      <td>289</td>\n",
       "      <td>7498</td>\n",
       "      <td>stock</td>\n",
       "      <td>north_america</td>\n",
       "    </tr>\n",
       "    <tr>\n",
       "      <th>0</th>\n",
       "      <td>30103</td>\n",
       "      <td>PART</td>\n",
       "      <td>11</td>\n",
       "      <td>N</td>\n",
       "      <td>USD</td>\n",
       "      <td>0.2629</td>\n",
       "      <td>6.2000</td>\n",
       "      <td>0.0800</td>\n",
       "      <td>0.1869</td>\n",
       "      <td>266</td>\n",
       "      <td>7374</td>\n",
       "      <td>stock</td>\n",
       "      <td>north_america</td>\n",
       "    </tr>\n",
       "    <tr>\n",
       "      <th>0</th>\n",
       "      <td>4332</td>\n",
       "      <td>PART</td>\n",
       "      <td>11</td>\n",
       "      <td>N</td>\n",
       "      <td>USD</td>\n",
       "      <td>0.2736</td>\n",
       "      <td>2.3000</td>\n",
       "      <td>0.0400</td>\n",
       "      <td>0.2520</td>\n",
       "      <td>562</td>\n",
       "      <td>5644</td>\n",
       "      <td>stock</td>\n",
       "      <td>north_america</td>\n",
       "    </tr>\n",
       "    <tr>\n",
       "      <th>0</th>\n",
       "      <td>33291</td>\n",
       "      <td>PART</td>\n",
       "      <td>36</td>\n",
       "      <td>N</td>\n",
       "      <td>USD</td>\n",
       "      <td>0.0644</td>\n",
       "      <td>2.5000</td>\n",
       "      <td>0.0100</td>\n",
       "      <td>0.0534</td>\n",
       "      <td>5159</td>\n",
       "      <td>673804</td>\n",
       "      <td>stock</td>\n",
       "      <td>north_america</td>\n",
       "    </tr>\n",
       "    <tr>\n",
       "      <th>0</th>\n",
       "      <td>33291</td>\n",
       "      <td>PART</td>\n",
       "      <td>47</td>\n",
       "      <td>N</td>\n",
       "      <td>USD</td>\n",
       "      <td>0.0644</td>\n",
       "      <td>2.5000</td>\n",
       "      <td>0.0100</td>\n",
       "      <td>0.0534</td>\n",
       "      <td>5159</td>\n",
       "      <td>673804</td>\n",
       "      <td>stock</td>\n",
       "      <td>north_america</td>\n",
       "    </tr>\n",
       "    <tr>\n",
       "      <th>0</th>\n",
       "      <td>3069b</td>\n",
       "      <td>PART</td>\n",
       "      <td>89</td>\n",
       "      <td>N</td>\n",
       "      <td>USD</td>\n",
       "      <td>0.1059</td>\n",
       "      <td>10.0000</td>\n",
       "      <td>0.0050</td>\n",
       "      <td>0.0802</td>\n",
       "      <td>17131</td>\n",
       "      <td>2837946</td>\n",
       "      <td>stock</td>\n",
       "      <td>north_america</td>\n",
       "    </tr>\n",
       "    <tr>\n",
       "      <th>0</th>\n",
       "      <td>87580</td>\n",
       "      <td>PART</td>\n",
       "      <td>89</td>\n",
       "      <td>N</td>\n",
       "      <td>USD</td>\n",
       "      <td>0.0905</td>\n",
       "      <td>4.1642</td>\n",
       "      <td>0.0070</td>\n",
       "      <td>0.0765</td>\n",
       "      <td>12836</td>\n",
       "      <td>1100000</td>\n",
       "      <td>stock</td>\n",
       "      <td>north_america</td>\n",
       "    </tr>\n",
       "    <tr>\n",
       "      <th>0</th>\n",
       "      <td>60581</td>\n",
       "      <td>PART</td>\n",
       "      <td>12</td>\n",
       "      <td>N</td>\n",
       "      <td>USD</td>\n",
       "      <td>0.2626</td>\n",
       "      <td>40.0000</td>\n",
       "      <td>0.0298</td>\n",
       "      <td>0.2435</td>\n",
       "      <td>2682</td>\n",
       "      <td>41321</td>\n",
       "      <td>stock</td>\n",
       "      <td>north_america</td>\n",
       "    </tr>\n",
       "    <tr>\n",
       "      <th>0</th>\n",
       "      <td>4085d</td>\n",
       "      <td>PART</td>\n",
       "      <td>88</td>\n",
       "      <td>N</td>\n",
       "      <td>USD</td>\n",
       "      <td>0.0556</td>\n",
       "      <td>6.3450</td>\n",
       "      <td>0.0080</td>\n",
       "      <td>0.0461</td>\n",
       "      <td>6316</td>\n",
       "      <td>492017</td>\n",
       "      <td>stock</td>\n",
       "      <td>north_america</td>\n",
       "    </tr>\n",
       "    <tr>\n",
       "      <th>0</th>\n",
       "      <td>3626c</td>\n",
       "      <td>PART</td>\n",
       "      <td>4</td>\n",
       "      <td>N</td>\n",
       "      <td>USD</td>\n",
       "      <td>0.3662</td>\n",
       "      <td>8.8605</td>\n",
       "      <td>0.0800</td>\n",
       "      <td>0.3353</td>\n",
       "      <td>2914</td>\n",
       "      <td>139093</td>\n",
       "      <td>stock</td>\n",
       "      <td>north_america</td>\n",
       "    </tr>\n",
       "    <tr>\n",
       "      <th>0</th>\n",
       "      <td>4460b</td>\n",
       "      <td>PART</td>\n",
       "      <td>88</td>\n",
       "      <td>N</td>\n",
       "      <td>USD</td>\n",
       "      <td>0.1818</td>\n",
       "      <td>9.6736</td>\n",
       "      <td>0.0250</td>\n",
       "      <td>0.1557</td>\n",
       "      <td>3691</td>\n",
       "      <td>92604</td>\n",
       "      <td>stock</td>\n",
       "      <td>north_america</td>\n",
       "    </tr>\n",
       "  </tbody>\n",
       "</table>\n",
       "</div>"
      ],
      "text/plain": [
       "  item_id itemtype color_id new_or_used currency_code  avg_price  max_price  \\\n",
       "0    3001     PART        2           N           USD     0.2120    48.0000   \n",
       "0    3004     PART       71           N           USD     0.0900    47.6240   \n",
       "0    3035     PART       86           N           USD     0.3124    18.4100   \n",
       "0    3039     PART       88           N           USD     0.0693     3.6190   \n",
       "0    3040     PART        4           N           USD     0.0583    27.0000   \n",
       "0    3040     PART       71           N           USD     0.0583    27.0000   \n",
       "0   3062b     PART       88           N           USD     0.0674    48.0000   \n",
       "0    3666     PART       89           N           USD     0.1038     5.4945   \n",
       "0    4073     PART        4           N           USD     0.0406     9.9900   \n",
       "0    4073     PART       89           N           USD     0.0406     9.9900   \n",
       "0    6124     PART       50           N           USD     0.2851     8.9300   \n",
       "0    6131     PART       11           N           USD     0.9400     7.7260   \n",
       "0   30103     PART       11           N           USD     0.2629     6.2000   \n",
       "0    4332     PART       11           N           USD     0.2736     2.3000   \n",
       "0   33291     PART       36           N           USD     0.0644     2.5000   \n",
       "0   33291     PART       47           N           USD     0.0644     2.5000   \n",
       "0   3069b     PART       89           N           USD     0.1059    10.0000   \n",
       "0   87580     PART       89           N           USD     0.0905     4.1642   \n",
       "0   60581     PART       12           N           USD     0.2626    40.0000   \n",
       "0   4085d     PART       88           N           USD     0.0556     6.3450   \n",
       "0   3626c     PART        4           N           USD     0.3662     8.8605   \n",
       "0   4460b     PART       88           N           USD     0.1818     9.6736   \n",
       "\n",
       "   min_price  qty_avg_price  unit_quantity  total_quantity sold_or_stock  \\\n",
       "0     0.0100         0.2267          12387         1118587         stock   \n",
       "0     0.0090         0.0689          19366         3618540         stock   \n",
       "0     0.0500         0.3413           5170           86333         stock   \n",
       "0     0.0037         0.0551          12306          887156         stock   \n",
       "0     0.0060         0.0456          14294         1231956         stock   \n",
       "0     0.0060         0.0456          14294         1231956         stock   \n",
       "0     0.0040         0.0649          14515         1012614         stock   \n",
       "0     0.0100         0.1020          12308          695184         stock   \n",
       "0     0.0020         0.0294          28699         9219797         stock   \n",
       "0     0.0020         0.0294          28699         9219797         stock   \n",
       "0     0.0300         0.1577            391           21957         stock   \n",
       "0     0.0720         0.4442            289            7498         stock   \n",
       "0     0.0800         0.1869            266            7374         stock   \n",
       "0     0.0400         0.2520            562            5644         stock   \n",
       "0     0.0100         0.0534           5159          673804         stock   \n",
       "0     0.0100         0.0534           5159          673804         stock   \n",
       "0     0.0050         0.0802          17131         2837946         stock   \n",
       "0     0.0070         0.0765          12836         1100000         stock   \n",
       "0     0.0298         0.2435           2682           41321         stock   \n",
       "0     0.0080         0.0461           6316          492017         stock   \n",
       "0     0.0800         0.3353           2914          139093         stock   \n",
       "0     0.0250         0.1557           3691           92604         stock   \n",
       "\n",
       "          region  \n",
       "0  north_america  \n",
       "0  north_america  \n",
       "0  north_america  \n",
       "0  north_america  \n",
       "0  north_america  \n",
       "0  north_america  \n",
       "0  north_america  \n",
       "0  north_america  \n",
       "0  north_america  \n",
       "0  north_america  \n",
       "0  north_america  \n",
       "0  north_america  \n",
       "0  north_america  \n",
       "0  north_america  \n",
       "0  north_america  \n",
       "0  north_america  \n",
       "0  north_america  \n",
       "0  north_america  \n",
       "0  north_america  \n",
       "0  north_america  \n",
       "0  north_america  \n",
       "0  north_america  "
      ]
     },
     "execution_count": 7,
     "metadata": {},
     "output_type": "execute_result"
    }
   ],
   "source": [
    "prices = get_price_summaries(bd, inv, new_or_used='N', guide_type='stock')\n",
    "prices"
   ]
  },
  {
   "cell_type": "code",
   "execution_count": 10,
   "metadata": {
    "pycharm": {
     "name": "#%%\n"
    }
   },
   "outputs": [
    {
     "data": {
      "text/html": [
       "<div>\n",
       "<style scoped>\n",
       "    .dataframe tbody tr th:only-of-type {\n",
       "        vertical-align: middle;\n",
       "    }\n",
       "\n",
       "    .dataframe tbody tr th {\n",
       "        vertical-align: top;\n",
       "    }\n",
       "\n",
       "    .dataframe thead th {\n",
       "        text-align: right;\n",
       "    }\n",
       "</style>\n",
       "<table border=\"1\" class=\"dataframe\">\n",
       "  <thead>\n",
       "    <tr style=\"text-align: right;\">\n",
       "      <th></th>\n",
       "      <th>item_id</th>\n",
       "      <th>color_id</th>\n",
       "      <th>name</th>\n",
       "      <th>itemtype_x</th>\n",
       "      <th>category_id</th>\n",
       "      <th>quantity</th>\n",
       "      <th>itemtype_y</th>\n",
       "      <th>new_or_used</th>\n",
       "      <th>currency_code</th>\n",
       "      <th>avg_price</th>\n",
       "      <th>max_price</th>\n",
       "      <th>min_price</th>\n",
       "      <th>qty_avg_price</th>\n",
       "      <th>unit_quantity</th>\n",
       "      <th>total_quantity</th>\n",
       "      <th>sold_or_stock</th>\n",
       "      <th>region</th>\n",
       "    </tr>\n",
       "    <tr>\n",
       "      <th>element_id</th>\n",
       "      <th></th>\n",
       "      <th></th>\n",
       "      <th></th>\n",
       "      <th></th>\n",
       "      <th></th>\n",
       "      <th></th>\n",
       "      <th></th>\n",
       "      <th></th>\n",
       "      <th></th>\n",
       "      <th></th>\n",
       "      <th></th>\n",
       "      <th></th>\n",
       "      <th></th>\n",
       "      <th></th>\n",
       "      <th></th>\n",
       "      <th></th>\n",
       "      <th></th>\n",
       "    </tr>\n",
       "  </thead>\n",
       "  <tbody>\n",
       "    <tr>\n",
       "      <th>(3001, 2)</th>\n",
       "      <td>3001</td>\n",
       "      <td>2</td>\n",
       "      <td>Brick 2 x 4</td>\n",
       "      <td>PART</td>\n",
       "      <td>5</td>\n",
       "      <td>1</td>\n",
       "      <td>PART</td>\n",
       "      <td>N</td>\n",
       "      <td>USD</td>\n",
       "      <td>0.2120</td>\n",
       "      <td>48.000</td>\n",
       "      <td>0.010</td>\n",
       "      <td>0.2267</td>\n",
       "      <td>12387</td>\n",
       "      <td>1118587</td>\n",
       "      <td>stock</td>\n",
       "      <td>north_america</td>\n",
       "    </tr>\n",
       "    <tr>\n",
       "      <th>(3004, 71)</th>\n",
       "      <td>3004</td>\n",
       "      <td>71</td>\n",
       "      <td>Brick 1 x 2</td>\n",
       "      <td>PART</td>\n",
       "      <td>5</td>\n",
       "      <td>1</td>\n",
       "      <td>PART</td>\n",
       "      <td>N</td>\n",
       "      <td>USD</td>\n",
       "      <td>0.0900</td>\n",
       "      <td>47.624</td>\n",
       "      <td>0.009</td>\n",
       "      <td>0.0689</td>\n",
       "      <td>19366</td>\n",
       "      <td>3618540</td>\n",
       "      <td>stock</td>\n",
       "      <td>north_america</td>\n",
       "    </tr>\n",
       "    <tr>\n",
       "      <th>(3035, 86)</th>\n",
       "      <td>3035</td>\n",
       "      <td>86</td>\n",
       "      <td>Plate 4 x 8</td>\n",
       "      <td>PART</td>\n",
       "      <td>26</td>\n",
       "      <td>1</td>\n",
       "      <td>PART</td>\n",
       "      <td>N</td>\n",
       "      <td>USD</td>\n",
       "      <td>0.3124</td>\n",
       "      <td>18.410</td>\n",
       "      <td>0.050</td>\n",
       "      <td>0.3413</td>\n",
       "      <td>5170</td>\n",
       "      <td>86333</td>\n",
       "      <td>stock</td>\n",
       "      <td>north_america</td>\n",
       "    </tr>\n",
       "  </tbody>\n",
       "</table>\n",
       "</div>"
      ],
      "text/plain": [
       "           item_id color_id         name itemtype_x category_id  quantity  \\\n",
       "element_id                                                                  \n",
       "(3001, 2)     3001        2  Brick 2 x 4       PART           5         1   \n",
       "(3004, 71)    3004       71  Brick 1 x 2       PART           5         1   \n",
       "(3035, 86)    3035       86  Plate 4 x 8       PART          26         1   \n",
       "\n",
       "           itemtype_y new_or_used currency_code  avg_price  max_price  \\\n",
       "element_id                                                              \n",
       "(3001, 2)        PART           N           USD     0.2120     48.000   \n",
       "(3004, 71)       PART           N           USD     0.0900     47.624   \n",
       "(3035, 86)       PART           N           USD     0.3124     18.410   \n",
       "\n",
       "            min_price  qty_avg_price  unit_quantity  total_quantity  \\\n",
       "element_id                                                            \n",
       "(3001, 2)       0.010         0.2267          12387         1118587   \n",
       "(3004, 71)      0.009         0.0689          19366         3618540   \n",
       "(3035, 86)      0.050         0.3413           5170           86333   \n",
       "\n",
       "           sold_or_stock         region  \n",
       "element_id                               \n",
       "(3001, 2)          stock  north_america  \n",
       "(3004, 71)         stock  north_america  \n",
       "(3035, 86)         stock  north_america  "
      ]
     },
     "execution_count": 10,
     "metadata": {},
     "output_type": "execute_result"
    }
   ],
   "source": [
    "full = inv.reset_index().merge(prices, on=['item_id', 'color_id']).set_index('element_id')\n",
    "full.head(3)"
   ]
  },
  {
   "cell_type": "code",
   "execution_count": 11,
   "metadata": {
    "pycharm": {
     "name": "#%%\n"
    }
   },
   "outputs": [],
   "source": [
    "add_price_to_inv_df(inv, prices)"
   ]
  },
  {
   "cell_type": "code",
   "execution_count": 12,
   "metadata": {
    "pycharm": {
     "name": "#%%\n"
    }
   },
   "outputs": [
    {
     "data": {
      "text/html": [
       "<div>\n",
       "<style scoped>\n",
       "    .dataframe tbody tr th:only-of-type {\n",
       "        vertical-align: middle;\n",
       "    }\n",
       "\n",
       "    .dataframe tbody tr th {\n",
       "        vertical-align: top;\n",
       "    }\n",
       "\n",
       "    .dataframe thead th {\n",
       "        text-align: right;\n",
       "    }\n",
       "</style>\n",
       "<table border=\"1\" class=\"dataframe\">\n",
       "  <thead>\n",
       "    <tr style=\"text-align: right;\">\n",
       "      <th></th>\n",
       "      <th>item_id</th>\n",
       "      <th>color_id</th>\n",
       "      <th>name</th>\n",
       "      <th>itemtype</th>\n",
       "      <th>category_id</th>\n",
       "      <th>quantity</th>\n",
       "    </tr>\n",
       "    <tr>\n",
       "      <th>element_id</th>\n",
       "      <th></th>\n",
       "      <th></th>\n",
       "      <th></th>\n",
       "      <th></th>\n",
       "      <th></th>\n",
       "      <th></th>\n",
       "    </tr>\n",
       "  </thead>\n",
       "  <tbody>\n",
       "    <tr>\n",
       "      <th>(3001, 2)</th>\n",
       "      <td>3001</td>\n",
       "      <td>2</td>\n",
       "      <td>Brick 2 x 4</td>\n",
       "      <td>PART</td>\n",
       "      <td>5</td>\n",
       "      <td>1</td>\n",
       "    </tr>\n",
       "    <tr>\n",
       "      <th>(3004, 71)</th>\n",
       "      <td>3004</td>\n",
       "      <td>71</td>\n",
       "      <td>Brick 1 x 2</td>\n",
       "      <td>PART</td>\n",
       "      <td>5</td>\n",
       "      <td>1</td>\n",
       "    </tr>\n",
       "    <tr>\n",
       "      <th>(3035, 86)</th>\n",
       "      <td>3035</td>\n",
       "      <td>86</td>\n",
       "      <td>Plate 4 x 8</td>\n",
       "      <td>PART</td>\n",
       "      <td>26</td>\n",
       "      <td>1</td>\n",
       "    </tr>\n",
       "    <tr>\n",
       "      <th>(3039, 88)</th>\n",
       "      <td>3039</td>\n",
       "      <td>88</td>\n",
       "      <td>Slope 45 2 x 2</td>\n",
       "      <td>PART</td>\n",
       "      <td>31</td>\n",
       "      <td>1</td>\n",
       "    </tr>\n",
       "    <tr>\n",
       "      <th>(3040, 4)</th>\n",
       "      <td>3040</td>\n",
       "      <td>4</td>\n",
       "      <td>Slope 45 2 x 1</td>\n",
       "      <td>PART</td>\n",
       "      <td>31</td>\n",
       "      <td>2</td>\n",
       "    </tr>\n",
       "    <tr>\n",
       "      <th>(3040, 71)</th>\n",
       "      <td>3040</td>\n",
       "      <td>71</td>\n",
       "      <td>Slope 45 2 x 1</td>\n",
       "      <td>PART</td>\n",
       "      <td>31</td>\n",
       "      <td>2</td>\n",
       "    </tr>\n",
       "    <tr>\n",
       "      <th>(3062b, 88)</th>\n",
       "      <td>3062b</td>\n",
       "      <td>88</td>\n",
       "      <td>Brick, Round 1 x 1 Open Stud</td>\n",
       "      <td>PART</td>\n",
       "      <td>8</td>\n",
       "      <td>2</td>\n",
       "    </tr>\n",
       "    <tr>\n",
       "      <th>(3666, 89)</th>\n",
       "      <td>3666</td>\n",
       "      <td>89</td>\n",
       "      <td>Plate 1 x 6</td>\n",
       "      <td>PART</td>\n",
       "      <td>26</td>\n",
       "      <td>1</td>\n",
       "    </tr>\n",
       "    <tr>\n",
       "      <th>(4073, 4)</th>\n",
       "      <td>4073</td>\n",
       "      <td>4</td>\n",
       "      <td>Plate, Round 1 x 1 Straight Side</td>\n",
       "      <td>PART</td>\n",
       "      <td>28</td>\n",
       "      <td>2</td>\n",
       "    </tr>\n",
       "    <tr>\n",
       "      <th>(4073, 89)</th>\n",
       "      <td>4073</td>\n",
       "      <td>89</td>\n",
       "      <td>Plate, Round 1 x 1 Straight Side</td>\n",
       "      <td>PART</td>\n",
       "      <td>28</td>\n",
       "      <td>2</td>\n",
       "    </tr>\n",
       "    <tr>\n",
       "      <th>(6124, 50)</th>\n",
       "      <td>6124</td>\n",
       "      <td>50</td>\n",
       "      <td>Minifigure, Utensil Magic Wand</td>\n",
       "      <td>PART</td>\n",
       "      <td>18</td>\n",
       "      <td>1</td>\n",
       "    </tr>\n",
       "    <tr>\n",
       "      <th>(6131, 11)</th>\n",
       "      <td>6131</td>\n",
       "      <td>11</td>\n",
       "      <td>Minifigure, Headgear Hat, Wizard / Witch</td>\n",
       "      <td>PART</td>\n",
       "      <td>16</td>\n",
       "      <td>1</td>\n",
       "    </tr>\n",
       "    <tr>\n",
       "      <th>(30103, 11)</th>\n",
       "      <td>30103</td>\n",
       "      <td>11</td>\n",
       "      <td>Bat</td>\n",
       "      <td>PART</td>\n",
       "      <td>146</td>\n",
       "      <td>1</td>\n",
       "    </tr>\n",
       "    <tr>\n",
       "      <th>(4332, 11)</th>\n",
       "      <td>4332</td>\n",
       "      <td>11</td>\n",
       "      <td>Minifigure, Utensil Broom</td>\n",
       "      <td>PART</td>\n",
       "      <td>18</td>\n",
       "      <td>1</td>\n",
       "    </tr>\n",
       "    <tr>\n",
       "      <th>(33291, 36)</th>\n",
       "      <td>33291</td>\n",
       "      <td>36</td>\n",
       "      <td>Plate, Round 1 x 1 with Flower Edge &amp;#40;4 Kno...</td>\n",
       "      <td>PART</td>\n",
       "      <td>28</td>\n",
       "      <td>3</td>\n",
       "    </tr>\n",
       "    <tr>\n",
       "      <th>(33291, 47)</th>\n",
       "      <td>33291</td>\n",
       "      <td>47</td>\n",
       "      <td>Plate, Round 1 x 1 with Flower Edge &amp;#40;4 Kno...</td>\n",
       "      <td>PART</td>\n",
       "      <td>28</td>\n",
       "      <td>1</td>\n",
       "    </tr>\n",
       "    <tr>\n",
       "      <th>(3069b, 89)</th>\n",
       "      <td>3069b</td>\n",
       "      <td>89</td>\n",
       "      <td>Tile 1 x 2 with Groove</td>\n",
       "      <td>PART</td>\n",
       "      <td>37</td>\n",
       "      <td>1</td>\n",
       "    </tr>\n",
       "    <tr>\n",
       "      <th>(87580, 89)</th>\n",
       "      <td>87580</td>\n",
       "      <td>89</td>\n",
       "      <td>Plate, Modified 2 x 2 with Groove and 1 Stud i...</td>\n",
       "      <td>PART</td>\n",
       "      <td>27</td>\n",
       "      <td>1</td>\n",
       "    </tr>\n",
       "    <tr>\n",
       "      <th>(60581, 12)</th>\n",
       "      <td>60581</td>\n",
       "      <td>12</td>\n",
       "      <td>Panel 1 x 4 x 3 with Side Supports - Hollow Studs</td>\n",
       "      <td>PART</td>\n",
       "      <td>91</td>\n",
       "      <td>1</td>\n",
       "    </tr>\n",
       "    <tr>\n",
       "      <th>(4085d, 88)</th>\n",
       "      <td>4085d</td>\n",
       "      <td>88</td>\n",
       "      <td>Plate, Modified 1 x 1 with Clip Vertical - Typ...</td>\n",
       "      <td>PART</td>\n",
       "      <td>27</td>\n",
       "      <td>1</td>\n",
       "    </tr>\n",
       "    <tr>\n",
       "      <th>(3626c, 4)</th>\n",
       "      <td>3626c</td>\n",
       "      <td>4</td>\n",
       "      <td>Minifigure, Head &amp;#40;Plain&amp;#41; - Hollow Stud</td>\n",
       "      <td>PART</td>\n",
       "      <td>238</td>\n",
       "      <td>1</td>\n",
       "    </tr>\n",
       "    <tr>\n",
       "      <th>(4460b, 88)</th>\n",
       "      <td>4460b</td>\n",
       "      <td>88</td>\n",
       "      <td>Slope 75 2 x 1 x 3 - Hollow Stud</td>\n",
       "      <td>PART</td>\n",
       "      <td>31</td>\n",
       "      <td>1</td>\n",
       "    </tr>\n",
       "  </tbody>\n",
       "</table>\n",
       "</div>"
      ],
      "text/plain": [
       "            item_id color_id  \\\n",
       "element_id                     \n",
       "(3001, 2)      3001        2   \n",
       "(3004, 71)     3004       71   \n",
       "(3035, 86)     3035       86   \n",
       "(3039, 88)     3039       88   \n",
       "(3040, 4)      3040        4   \n",
       "(3040, 71)     3040       71   \n",
       "(3062b, 88)   3062b       88   \n",
       "(3666, 89)     3666       89   \n",
       "(4073, 4)      4073        4   \n",
       "(4073, 89)     4073       89   \n",
       "(6124, 50)     6124       50   \n",
       "(6131, 11)     6131       11   \n",
       "(30103, 11)   30103       11   \n",
       "(4332, 11)     4332       11   \n",
       "(33291, 36)   33291       36   \n",
       "(33291, 47)   33291       47   \n",
       "(3069b, 89)   3069b       89   \n",
       "(87580, 89)   87580       89   \n",
       "(60581, 12)   60581       12   \n",
       "(4085d, 88)   4085d       88   \n",
       "(3626c, 4)    3626c        4   \n",
       "(4460b, 88)   4460b       88   \n",
       "\n",
       "                                                          name itemtype  \\\n",
       "element_id                                                                \n",
       "(3001, 2)                                          Brick 2 x 4     PART   \n",
       "(3004, 71)                                         Brick 1 x 2     PART   \n",
       "(3035, 86)                                         Plate 4 x 8     PART   \n",
       "(3039, 88)                                      Slope 45 2 x 2     PART   \n",
       "(3040, 4)                                       Slope 45 2 x 1     PART   \n",
       "(3040, 71)                                      Slope 45 2 x 1     PART   \n",
       "(3062b, 88)                       Brick, Round 1 x 1 Open Stud     PART   \n",
       "(3666, 89)                                         Plate 1 x 6     PART   \n",
       "(4073, 4)                     Plate, Round 1 x 1 Straight Side     PART   \n",
       "(4073, 89)                    Plate, Round 1 x 1 Straight Side     PART   \n",
       "(6124, 50)                      Minifigure, Utensil Magic Wand     PART   \n",
       "(6131, 11)            Minifigure, Headgear Hat, Wizard / Witch     PART   \n",
       "(30103, 11)                                                Bat     PART   \n",
       "(4332, 11)                           Minifigure, Utensil Broom     PART   \n",
       "(33291, 36)  Plate, Round 1 x 1 with Flower Edge &#40;4 Kno...     PART   \n",
       "(33291, 47)  Plate, Round 1 x 1 with Flower Edge &#40;4 Kno...     PART   \n",
       "(3069b, 89)                             Tile 1 x 2 with Groove     PART   \n",
       "(87580, 89)  Plate, Modified 2 x 2 with Groove and 1 Stud i...     PART   \n",
       "(60581, 12)  Panel 1 x 4 x 3 with Side Supports - Hollow Studs     PART   \n",
       "(4085d, 88)  Plate, Modified 1 x 1 with Clip Vertical - Typ...     PART   \n",
       "(3626c, 4)      Minifigure, Head &#40;Plain&#41; - Hollow Stud     PART   \n",
       "(4460b, 88)                   Slope 75 2 x 1 x 3 - Hollow Stud     PART   \n",
       "\n",
       "            category_id  quantity  \n",
       "element_id                         \n",
       "(3001, 2)             5         1  \n",
       "(3004, 71)            5         1  \n",
       "(3035, 86)           26         1  \n",
       "(3039, 88)           31         1  \n",
       "(3040, 4)            31         2  \n",
       "(3040, 71)           31         2  \n",
       "(3062b, 88)           8         2  \n",
       "(3666, 89)           26         1  \n",
       "(4073, 4)            28         2  \n",
       "(4073, 89)           28         2  \n",
       "(6124, 50)           18         1  \n",
       "(6131, 11)           16         1  \n",
       "(30103, 11)         146         1  \n",
       "(4332, 11)           18         1  \n",
       "(33291, 36)          28         3  \n",
       "(33291, 47)          28         1  \n",
       "(3069b, 89)          37         1  \n",
       "(87580, 89)          27         1  \n",
       "(60581, 12)          91         1  \n",
       "(4085d, 88)          27         1  \n",
       "(3626c, 4)          238         1  \n",
       "(4460b, 88)          31         1  "
      ]
     },
     "execution_count": 12,
     "metadata": {},
     "output_type": "execute_result"
    }
   ],
   "source": [
    "inv"
   ]
  },
  {
   "cell_type": "code",
   "execution_count": 23,
   "metadata": {
    "pycharm": {
     "name": "#%%\n"
    }
   },
   "outputs": [
    {
     "data": {
      "text/plain": [
       "{'no': '561410-1',\n",
       " 'name': '{Halloween Shop foil pack}',\n",
       " 'type': 'SET',\n",
       " 'category_id': 390,\n",
       " 'image_url': '//img.bricklink.com/SL/561410-1.jpg',\n",
       " 'thumbnail_url': '//img.bricklink.com/S/561410-1.jpg',\n",
       " 'weight': '23.80',\n",
       " 'dim_x': '12.00',\n",
       " 'dim_y': '15.00',\n",
       " 'dim_z': '2.00',\n",
       " 'year_released': 2014,\n",
       " 'description': 'Included with 2014 issue 4 of Friends magazine/comic in Poland.  Also included with an issue of the magazine in the UK.',\n",
       " 'is_obsolete': False}"
      ]
     },
     "execution_count": 23,
     "metadata": {},
     "output_type": "execute_result"
    }
   ],
   "source": [
    "rc.get_item('561410-1', 'SET')"
   ]
  },
  {
   "cell_type": "code",
   "execution_count": 24,
   "metadata": {
    "pycharm": {
     "name": "#%%\n"
    }
   },
   "outputs": [
    {
     "data": {
      "text/plain": [
       "{'no': '3006',\n",
       " 'name': 'Brick 2 x 10',\n",
       " 'type': 'PART',\n",
       " 'category_id': 5,\n",
       " 'alternate_no': '92538',\n",
       " 'image_url': '//img.bricklink.com/PL/3006.jpg',\n",
       " 'thumbnail_url': '//img.bricklink.com/P/11/3006.jpg',\n",
       " 'weight': '5.75',\n",
       " 'dim_x': '2.00',\n",
       " 'dim_y': '10.00',\n",
       " 'dim_z': '1.00',\n",
       " 'year_released': 1954,\n",
       " 'is_obsolete': False}"
      ]
     },
     "execution_count": 24,
     "metadata": {},
     "output_type": "execute_result"
    }
   ],
   "source": [
    "rc.get_item('3006', 'PART')"
   ]
  },
  {
   "cell_type": "code",
   "execution_count": 118,
   "metadata": {
    "pycharm": {
     "name": "#%%\n"
    }
   },
   "outputs": [],
   "source": [
    "import shelve"
   ]
  },
  {
   "cell_type": "code",
   "execution_count": 124,
   "outputs": [
    {
     "name": "stdout",
     "output_type": "stream",
     "text": [
      "['get_subsets_11910-1_SET', 'get_price_guide_2419_PART_85_N_stock_north_america', 'get_subsets_561410-1_SET', 'get_price_guide_3001_PART_2_N_stock_north_america', 'get_price_guide_2420_PART_7_N_stock_north_america', 'get_price_guide_2420_PART_86_N_stock_north_america', 'get_price_guide_2432_PART_7_N_stock_north_america', 'get_price_guide_2450_PART_85_N_stock_north_america', 'get_price_guide_2450_PART_86_N_stock_north_america', 'get_price_guide_3005_PART_7_N_stock_north_america', 'get_price_guide_3020_PART_7_N_stock_north_america', 'get_price_guide_3020_PART_85_N_stock_north_america', 'get_price_guide_3021_PART_1_N_stock_north_america', 'get_price_guide_3021_PART_3_N_stock_north_america', 'get_price_guide_3022_PART_7_N_stock_north_america', 'get_price_guide_3023_PART_11_N_stock_north_america', 'get_price_guide_3023_PART_19_N_stock_north_america', 'get_price_guide_3024_PART_7_N_stock_north_america', 'get_price_guide_3024_PART_85_N_stock_north_america', 'get_price_guide_3460_PART_86_N_stock_north_america', 'get_price_guide_3623_PART_7_N_stock_north_america', 'get_price_guide_3623_PART_85_N_stock_north_america', 'get_price_guide_3700_PART_7_N_stock_north_america', 'get_price_guide_3710_PART_7_N_stock_north_america', 'get_price_guide_4070_PART_86_N_stock_north_america', 'get_price_guide_4073_PART_17_N_stock_north_america', 'get_price_guide_4740_PART_86_N_stock_north_america', 'get_price_guide_3070b_PART_3_N_stock_north_america', 'get_price_guide_3070b_PART_17_N_stock_north_america', 'get_price_guide_3070b_PART_20_N_stock_north_america', 'get_price_guide_3070b_PART_86_N_stock_north_america', 'get_price_guide_41770_PART_86_N_stock_north_america', 'get_price_guide_41769_PART_86_N_stock_north_america', 'get_price_guide_4081b_PART_86_N_stock_north_america', 'get_price_guide_4592c02_PART_86_N_stock_north_america', 'get_price_guide_2429c01_PART_7_N_stock_north_america', 'get_price_guide_3839b_PART_86_N_stock_north_america', 'get_price_guide_3069b_PART_7_N_stock_north_america', 'get_price_guide_3068b_PART_86_N_stock_north_america', 'get_price_guide_48336_PART_5_N_stock_north_america', 'get_price_guide_54200_PART_19_N_stock_north_america', 'get_price_guide_54200_PART_86_N_stock_north_america', 'get_price_guide_4589b_PART_86_N_stock_north_america', 'get_price_guide_63868_PART_85_N_stock_north_america', 'get_price_guide_85984_PART_7_N_stock_north_america', 'get_price_guide_85984_PART_86_N_stock_north_america', 'get_price_guide_60470b_PART_86_N_stock_north_america', 'get_price_guide_98100_PART_86_N_stock_north_america', 'get_price_guide_15573_PART_86_N_stock_north_america', 'get_subsets_40502-1_SET', 'get_subsets_4IntellijIdeaRulezzz -1_SET', 'get_price_guide_2357_PART_86_N_stock_north_america', 'get_price_guide_2420_PART_11_N_stock_north_america', 'get_price_guide_2420_PART_34_N_stock_north_america', 'get_price_guide_2420_PART_85_N_stock_north_america', 'get_price_guide_2431_PART_11_N_stock_north_america', 'get_price_guide_2431_PART_34_N_stock_north_america', 'get_price_guide_2431_PART_86_N_stock_north_america', 'get_price_guide_2432_PART_3_N_stock_north_america', 'get_price_guide_2454_PART_11_N_stock_north_america', 'get_price_guide_2456_PART_1_N_stock_north_america', 'get_price_guide_2456_PART_86_N_stock_north_america', 'get_price_guide_2465_PART_11_N_stock_north_america', 'get_price_guide_2653_PART_11_N_stock_north_america', 'get_price_guide_2654_PART_86_N_stock_north_america', 'get_price_guide_2877_PART_85_N_stock_north_america', 'get_price_guide_3001_PART_11_N_stock_north_america', 'get_price_guide_3001_PART_34_N_stock_north_america', 'get_price_guide_3001_PART_85_N_stock_north_america', 'get_price_guide_3002_PART_86_N_stock_north_america', 'get_price_guide_3003_PART_11_N_stock_north_america', 'get_price_guide_3003_PART_85_N_stock_north_america', 'get_price_guide_3004_PART_11_N_stock_north_america', 'get_price_guide_3004_PART_34_N_stock_north_america', 'get_price_guide_3004_PART_85_N_stock_north_america', 'get_price_guide_3004_PART_86_N_stock_north_america', 'get_price_guide_3005_PART_11_N_stock_north_america', 'get_price_guide_3005_PART_34_N_stock_north_america', 'get_price_guide_3005_PART_85_N_stock_north_america', 'get_price_guide_3008_PART_11_N_stock_north_america', 'get_price_guide_3009_PART_11_N_stock_north_america', 'get_price_guide_3009_PART_34_N_stock_north_america', 'get_price_guide_3010_PART_11_N_stock_north_america', 'get_price_guide_3010_PART_34_N_stock_north_america', 'get_price_guide_3010_PART_85_N_stock_north_america', 'get_price_guide_30136_PART_86_N_stock_north_america', 'get_price_guide_30145_PART_86_N_stock_north_america', 'get_price_guide_30150_PART_3_N_stock_north_america', 'get_price_guide_3020_PART_11_N_stock_north_america', 'get_price_guide_3020_PART_34_N_stock_north_america', 'get_price_guide_3021_PART_11_N_stock_north_america', 'get_price_guide_3021_PART_34_N_stock_north_america', 'get_price_guide_3021_PART_85_N_stock_north_america', 'get_price_guide_3021_PART_86_N_stock_north_america', 'get_price_guide_3022_PART_11_N_stock_north_america', 'get_price_guide_3022_PART_34_N_stock_north_america', 'get_price_guide_3022_PART_85_N_stock_north_america', 'get_price_guide_3023_PART_34_N_stock_north_america', 'get_price_guide_3023_PART_85_N_stock_north_america', 'get_price_guide_3023_PART_86_N_stock_north_america', 'get_price_guide_3024_PART_11_N_stock_north_america', 'get_price_guide_3024_PART_34_N_stock_north_america', 'get_price_guide_3024_PART_59_N_stock_north_america', 'get_price_guide_3024_PART_86_N_stock_north_america', 'get_price_guide_3027_PART_11_N_stock_north_america', 'get_price_guide_3030_PART_85_N_stock_north_america', 'get_price_guide_3032_PART_11_N_stock_north_america', 'get_price_guide_3032_PART_34_N_stock_north_america', 'get_price_guide_3034_PART_11_N_stock_north_america', 'get_price_guide_3034_PART_86_N_stock_north_america', 'get_price_guide_3035_PART_11_N_stock_north_america', 'get_price_guide_3035_PART_85_N_stock_north_america', 'get_price_guide_3039_PART_86_N_stock_north_america', 'get_price_guide_3040_PART_11_N_stock_north_america', 'get_price_guide_3062b_PART_11_N_stock_north_america', 'get_price_guide_32028_PART_85_N_stock_north_america', 'get_price_guide_32028_PART_86_N_stock_north_america', 'get_price_guide_32062_PART_5_N_stock_north_america', 'get_price_guide_32064_PART_11_N_stock_north_america', 'get_price_guide_3298_PART_86_N_stock_north_america', 'get_price_guide_3460_PART_85_N_stock_north_america', 'get_price_guide_3622_PART_11_N_stock_north_america', 'get_price_guide_3622_PART_34_N_stock_north_america', 'get_price_guide_3622_PART_85_N_stock_north_america', 'get_price_guide_3622_PART_86_N_stock_north_america', 'get_price_guide_3623_PART_11_N_stock_north_america', 'get_price_guide_3623_PART_86_N_stock_north_america', 'get_price_guide_3659_PART_11_N_stock_north_america', 'get_price_guide_3660_PART_86_N_stock_north_america', 'get_price_guide_3666_PART_11_N_stock_north_america', 'get_price_guide_3666_PART_34_N_stock_north_america', 'get_price_guide_3666_PART_85_N_stock_north_america', 'get_price_guide_3673_PART_86_N_stock_north_america', 'get_price_guide_3700_PART_86_N_stock_north_america', 'get_price_guide_3709b_PART_11_N_stock_north_america', 'get_price_guide_3709b_PART_86_N_stock_north_america', 'get_price_guide_3710_PART_11_N_stock_north_america', 'get_price_guide_3710_PART_34_N_stock_north_america', 'get_price_guide_3710_PART_86_N_stock_north_america', 'get_price_guide_3795_PART_11_N_stock_north_america', 'get_price_guide_3795_PART_34_N_stock_north_america', 'get_price_guide_3941_PART_12_N_stock_north_america', 'get_price_guide_3941_PART_34_N_stock_north_america', 'get_price_guide_3941_PART_98_N_stock_north_america', 'get_price_guide_3958_PART_11_N_stock_north_america', 'get_price_guide_4032_PART_86_N_stock_north_america', 'get_price_guide_4070_PART_11_N_stock_north_america', 'get_price_guide_4070_PART_85_N_stock_north_america', 'get_price_guide_4073_PART_12_N_stock_north_america', 'get_price_guide_4073_PART_14_N_stock_north_america', 'get_price_guide_4073_PART_59_N_stock_north_america', 'get_price_guide_4073_PART_77_N_stock_north_america', 'get_price_guide_4073_PART_98_N_stock_north_america', 'get_price_guide_4162_PART_86_N_stock_north_america', 'get_price_guide_4265c_PART_86_N_stock_north_america', 'get_price_guide_4274_PART_86_N_stock_north_america', 'get_price_guide_2780_PART_11_N_stock_north_america', 'get_price_guide_4477_PART_11_N_stock_north_america', 'get_price_guide_30162_PART_86_N_stock_north_america', 'get_price_guide_4510_PART_85_N_stock_north_america', 'get_price_guide_32209_PART_85_N_stock_north_america', 'get_price_guide_64567_PART_11_N_stock_north_america', 'get_price_guide_30374_PART_86_N_stock_north_america', 'get_price_guide_6111_PART_34_N_stock_north_america', 'get_price_guide_6112_PART_11_N_stock_north_america', 'get_price_guide_6541_PART_86_N_stock_north_america', 'get_price_guide_6636_PART_11_N_stock_north_america', 'get_price_guide_6636_PART_85_N_stock_north_america', 'get_price_guide_33078_PART_11_N_stock_north_america', 'get_price_guide_30413_PART_11_N_stock_north_america', 'get_price_guide_32316_PART_39_N_stock_north_america', 'get_price_guide_30586_PART_86_N_stock_north_america', 'get_price_guide_3070b_PART_11_N_stock_north_america', 'get_price_guide_3070b_PART_34_N_stock_north_america', 'get_price_guide_3070b_PART_85_N_stock_north_america', 'get_price_guide_3070b_PART_110_N_stock_north_america', 'get_price_guide_32525_PART_1_N_stock_north_america', 'get_price_guide_2412b_PART_11_N_stock_north_america', 'get_price_guide_2412b_PART_86_N_stock_north_america', 'get_price_guide_42022_PART_85_N_stock_north_america', 'get_price_guide_3069b_PART_11_N_stock_north_america', 'get_price_guide_3069b_PART_34_N_stock_north_america', 'get_price_guide_3069b_PART_85_N_stock_north_america', 'get_price_guide_3069b_PART_86_N_stock_north_america', 'get_price_guide_3068b_PART_11_N_stock_north_america', 'get_price_guide_3068b_PART_34_N_stock_north_america', 'get_price_guide_44728_PART_86_N_stock_north_america', 'get_price_guide_44300_PART_86_N_stock_north_america', 'get_price_guide_47457_PART_86_N_stock_north_america', 'get_price_guide_54200_PART_11_N_stock_north_america', 'get_price_guide_54200_PART_85_N_stock_north_america', 'get_price_guide_58176_PART_11_N_stock_north_america', 'get_price_guide_59349_PART_11_N_stock_north_america', 'get_price_guide_59349_PART_12_N_stock_north_america', 'get_price_guide_60483_PART_4_N_stock_north_america', 'get_price_guide_60616_PART_34_N_stock_north_america', 'get_price_guide_60479_PART_85_N_stock_north_america', 'get_price_guide_60596_PART_34_N_stock_north_america', 'get_price_guide_60476_PART_11_N_stock_north_america', 'get_price_guide_85861_PART_3_N_stock_north_america', 'get_price_guide_85861_PART_11_N_stock_north_america', 'get_price_guide_85861_PART_34_N_stock_north_america', 'get_price_guide_85861_PART_86_N_stock_north_america', 'get_price_guide_87580_PART_11_N_stock_north_america', 'get_price_guide_87580_PART_34_N_stock_north_america', 'get_price_guide_87580_PART_86_N_stock_north_america', 'get_price_guide_60581_PART_11_N_stock_north_america', 'get_price_guide_63864_PART_4_N_stock_north_america', 'get_price_guide_63864_PART_11_N_stock_north_america', 'get_price_guide_63864_PART_34_N_stock_north_america', 'get_price_guide_63864_PART_85_N_stock_north_america', 'get_price_guide_63864_PART_86_N_stock_north_america', 'get_price_guide_87087_PART_34_N_stock_north_america', 'get_price_guide_87087_PART_85_N_stock_north_america', 'get_price_guide_87087_PART_86_N_stock_north_america', 'get_price_guide_87079_PART_11_N_stock_north_america', 'get_price_guide_87079_PART_34_N_stock_north_america', 'get_price_guide_87079_PART_86_N_stock_north_america', 'get_price_guide_3245c_PART_11_N_stock_north_america', 'get_price_guide_61252_PART_11_N_stock_north_america', 'get_price_guide_87994_PART_11_N_stock_north_america', 'get_price_guide_87994_PART_85_N_stock_north_america', 'get_price_guide_92438_PART_11_N_stock_north_america', 'get_price_guide_92946_PART_11_N_stock_north_america', 'get_price_guide_3957b_PART_12_N_stock_north_america', 'get_price_guide_4865b_PART_11_N_stock_north_america', 'get_price_guide_99563_PART_86_N_stock_north_america', 'get_price_guide_95343_PART_5_N_stock_north_america', 'get_price_guide_95344_PART_85_N_stock_north_america', 'get_price_guide_2453b_PART_11_N_stock_north_america', 'get_price_guide_2453b_PART_85_N_stock_north_america', 'get_price_guide_30241b_PART_85_N_stock_north_america', 'get_price_guide_96874_PART_4_N_stock_north_america', 'get_price_guide_98138_PART_5_N_stock_north_america', 'get_price_guide_98138_PART_11_N_stock_north_america', 'get_price_guide_98138_PART_59_N_stock_north_america', 'get_price_guide_98138_PART_85_N_stock_north_america', 'get_price_guide_98138_PART_86_N_stock_north_america', 'get_price_guide_98138_PART_98_N_stock_north_america', 'get_price_guide_99780_PART_11_N_stock_north_america', 'get_price_guide_99780_PART_34_N_stock_north_america', 'get_price_guide_99207_PART_11_N_stock_north_america', 'get_price_guide_99207_PART_86_N_stock_north_america', 'get_price_guide_99206_PART_86_N_stock_north_america', 'get_price_guide_11211_PART_34_N_stock_north_america', 'get_price_guide_11211_PART_86_N_stock_north_america', 'get_price_guide_98100_PART_11_N_stock_north_america', 'get_price_guide_10247_PART_86_N_stock_north_america', 'get_price_guide_11477_PART_4_N_stock_north_america', 'get_price_guide_11477_PART_34_N_stock_north_america', 'get_price_guide_14769_PART_34_N_stock_north_america', 'get_price_guide_15573_PART_5_N_stock_north_america', 'get_price_guide_15573_PART_11_N_stock_north_america', 'get_price_guide_15573_PART_34_N_stock_north_america', 'get_price_guide_15535_PART_86_N_stock_north_america', 'get_price_guide_14719_PART_11_N_stock_north_america', 'get_price_guide_15068_PART_85_N_stock_north_america', 'get_price_guide_14716_PART_86_N_stock_north_america', 'get_price_guide_15712_PART_1_N_stock_north_america', 'get_price_guide_4162pb110_PART_11_N_stock_north_america', 'get_price_guide_18674_PART_11_N_stock_north_america', 'get_price_guide_18674_PART_86_N_stock_north_america', 'get_price_guide_17485_PART_86_N_stock_north_america', 'get_price_guide_20482_PART_5_N_stock_north_america', 'get_price_guide_20482_PART_11_N_stock_north_america', 'get_price_guide_20482_PART_85_N_stock_north_america', 'get_price_guide_20482_PART_86_N_stock_north_america', 'get_price_guide_18653_PART_11_N_stock_north_america', 'get_price_guide_22885_PART_86_N_stock_north_america', 'get_price_guide_3940b_PART_85_N_stock_north_america', 'get_price_guide_22886_PART_86_N_stock_north_america', 'get_price_guide_25269_PART_11_N_stock_north_america', 'get_price_guide_15254_PART_86_N_stock_north_america', 'get_price_guide_26603_PART_11_N_stock_north_america', 'get_price_guide_26603_PART_86_N_stock_north_america', 'get_price_guide_32952_PART_11_N_stock_north_america', 'get_price_guide_32952_PART_85_N_stock_north_america', 'get_price_guide_32952_PART_86_N_stock_north_america', 'get_price_guide_33909_PART_86_N_stock_north_america', 'get_price_guide_34103_PART_86_N_stock_north_america', 'get_price_guide_32828_PART_11_N_stock_north_america', 'get_price_guide_35480_PART_11_N_stock_north_america', 'get_price_guide_35480_PART_86_N_stock_north_america', 'get_price_guide_35186_PART_86_N_stock_north_america', 'get_price_guide_36840_PART_85_N_stock_north_america', 'get_price_guide_41740_PART_11_N_stock_north_america', 'get_price_guide_28802_PART_11_N_stock_north_america', 'get_price_guide_65509_PART_85_N_stock_north_america', 'get_price_guide_44861_PART_86_N_stock_north_america', 'get_price_guide_98138pb175_PART_86_N_stock_north_america', 'get_price_guide_3068bpb1657_PART_150_N_stock_north_america', 'get_price_guide_4162pb244_PART_11_N_stock_north_america', 'get_price_guide_40502stk01_PART_0_N_stock_north_america', 'get_price_guide_3006_PART_10_N_stock', 'get_price_guide_3006_PART_10_N_stock_north_america', 'get_subsets_10182-1_SET', 'get_price_guide_2357_PART_2_N_stock_north_america', 'get_price_guide_2357_PART_63_N_stock_north_america', 'get_price_guide_2357_PART_85_N_stock_north_america', 'get_price_guide_2357_PART_88_N_stock_north_america', 'get_price_guide_2420_PART_2_N_stock_north_america', 'get_price_guide_2420_PART_88_N_stock_north_america', 'get_price_guide_2431_PART_1_N_stock_north_america', 'get_price_guide_2431_PART_85_N_stock_north_america', 'get_price_guide_2431_PART_88_N_stock_north_america', 'get_price_guide_2540_PART_86_N_stock_north_america', 'get_price_guide_2877_PART_86_N_stock_north_america', 'get_price_guide_2921_PART_86_N_stock_north_america', 'get_price_guide_3001_PART_86_N_stock_north_america', 'get_price_guide_3001_PART_88_N_stock_north_america', 'get_price_guide_3002_PART_88_N_stock_north_america', 'get_price_guide_3003_PART_63_N_stock_north_america', 'get_price_guide_3004_PART_2_N_stock_north_america', 'get_price_guide_3004_PART_42_N_stock_north_america', 'get_price_guide_3004_PART_59_N_stock_north_america', 'get_price_guide_3004_PART_63_N_stock_north_america', 'get_price_guide_3004_PART_88_N_stock_north_america', 'get_price_guide_30044_PART_1_N_stock_north_america', 'get_price_guide_30046_PART_11_N_stock_north_america', 'get_price_guide_3005_PART_1_N_stock_north_america', 'get_price_guide_3005_PART_2_N_stock_north_america', 'get_price_guide_3005_PART_59_N_stock_north_america', 'get_price_guide_3005_PART_63_N_stock_north_america', 'get_price_guide_3005_PART_86_N_stock_north_america', 'get_price_guide_30055_PART_88_N_stock_north_america', 'get_price_guide_3006_PART_88_N_stock_north_america', 'get_price_guide_3007_PART_86_N_stock_north_america', 'get_price_guide_3008_PART_2_N_stock_north_america', 'get_price_guide_3008_PART_86_N_stock_north_america', 'get_price_guide_3008_PART_88_N_stock_north_america', 'get_price_guide_3009_PART_2_N_stock_north_america', 'get_price_guide_3009_PART_86_N_stock_north_america', 'get_price_guide_3009_PART_88_N_stock_north_america', 'get_price_guide_3010_PART_2_N_stock_north_america', 'get_price_guide_3010_PART_63_N_stock_north_america', 'get_price_guide_3010_PART_86_N_stock_north_america', 'get_price_guide_3010_PART_88_N_stock_north_america', 'get_price_guide_30134_PART_88_N_stock_north_america', 'get_price_guide_30136_PART_85_N_stock_north_america', 'get_price_guide_30136_PART_88_N_stock_north_america', 'get_price_guide_3020_PART_1_N_stock_north_america', 'get_price_guide_3020_PART_2_N_stock_north_america', 'get_price_guide_3020_PART_86_N_stock_north_america', 'get_price_guide_3020_PART_88_N_stock_north_america', 'get_price_guide_3021_PART_2_N_stock_north_america', 'get_price_guide_3022_PART_1_N_stock_north_america', 'get_price_guide_3022_PART_86_N_stock_north_america', 'get_price_guide_3022_PART_88_N_stock_north_america', 'get_price_guide_3023_PART_1_N_stock_north_america', 'get_price_guide_3023_PART_2_N_stock_north_america', 'get_price_guide_3023_PART_17_N_stock_north_america', 'get_price_guide_3023_PART_42_N_stock_north_america', 'get_price_guide_3023_PART_59_N_stock_north_america', 'get_price_guide_3023_PART_88_N_stock_north_america', 'get_price_guide_3024_PART_1_N_stock_north_america', 'get_price_guide_3024_PART_2_N_stock_north_america', 'get_price_guide_3024_PART_17_N_stock_north_america', 'get_price_guide_3024_PART_42_N_stock_north_america', 'get_price_guide_3024_PART_63_N_stock_north_america', 'get_price_guide_3024_PART_88_N_stock_north_america', 'get_price_guide_3028_PART_85_N_stock_north_america', 'get_price_guide_3029_PART_85_N_stock_north_america', 'get_price_guide_3032_PART_85_N_stock_north_america', 'get_price_guide_3034_PART_1_N_stock_north_america', 'get_price_guide_3034_PART_85_N_stock_north_america', 'get_price_guide_3034_PART_88_N_stock_north_america', 'get_price_guide_3036_PART_11_N_stock_north_america', 'get_price_guide_30383_PART_85_N_stock_north_america', 'get_price_guide_3062b_PART_2_N_stock_north_america', 'get_price_guide_3062b_PART_19_N_stock_north_america', 'get_price_guide_3062b_PART_63_N_stock_north_america', 'get_price_guide_3062b_PART_85_N_stock_north_america', 'get_price_guide_3062b_PART_86_N_stock_north_america', 'get_price_guide_3062b_PART_88_N_stock_north_america', 'get_price_guide_3307_PART_2_N_stock_north_america', 'get_price_guide_3308_PART_63_N_stock_north_america', 'get_price_guide_3455_PART_2_N_stock_north_america', 'get_price_guide_3460_PART_1_N_stock_north_america', 'get_price_guide_3460_PART_2_N_stock_north_america', 'get_price_guide_3460_PART_11_N_stock_north_america', 'get_price_guide_3622_PART_2_N_stock_north_america', 'get_price_guide_3622_PART_88_N_stock_north_america', 'get_price_guide_3623_PART_1_N_stock_north_america', 'get_price_guide_3623_PART_2_N_stock_north_america', 'get_price_guide_3626b_PART_12_N_stock_north_america', 'get_price_guide_3633_PART_85_N_stock_north_america', 'get_price_guide_3660_PART_2_N_stock_north_america', 'get_price_guide_3665_PART_88_N_stock_north_america', 'get_price_guide_3666_PART_2_N_stock_north_america', 'get_price_guide_3666_PART_59_N_stock_north_america', 'get_price_guide_3666_PART_86_N_stock_north_america', 'get_price_guide_3666_PART_88_N_stock_north_america', 'get_price_guide_3679_PART_86_N_stock_north_america', 'get_price_guide_3680_PART_11_N_stock_north_america', 'get_price_guide_3680_PART_86_N_stock_north_america', 'get_price_guide_3700_PART_11_N_stock_north_america', 'get_price_guide_3710_PART_1_N_stock_north_america', 'get_price_guide_3710_PART_2_N_stock_north_america', 'get_price_guide_3710_PART_59_N_stock_north_america', 'get_price_guide_3710_PART_63_N_stock_north_america', 'get_price_guide_3710_PART_85_N_stock_north_america', 'get_price_guide_3710_PART_88_N_stock_north_america', 'get_price_guide_3795_PART_2_N_stock_north_america', 'get_price_guide_3795_PART_85_N_stock_north_america', 'get_price_guide_3795_PART_86_N_stock_north_america', 'get_price_guide_3795_PART_88_N_stock_north_america', 'get_price_guide_3832_PART_11_N_stock_north_america', 'get_price_guide_3832_PART_85_N_stock_north_america', 'get_price_guide_3832_PART_86_N_stock_north_america', 'get_price_guide_3832_PART_88_N_stock_north_america', 'get_price_guide_3857_PART_6_N_stock_north_america', 'get_price_guide_3899_PART_3_N_stock_north_america', 'get_price_guide_3899_PART_5_N_stock_north_america', 'get_price_guide_3899_PART_12_N_stock_north_america', 'get_price_guide_3937_PART_85_N_stock_north_america', 'get_price_guide_3957_PART_1_N_stock_north_america', 'get_price_guide_3958_PART_85_N_stock_north_america', 'get_price_guide_4032_PART_3_N_stock_north_america', 'get_price_guide_4070_PART_1_N_stock_north_america', 'get_price_guide_4070_PART_59_N_stock_north_america', 'get_price_guide_4070_PART_88_N_stock_north_america', 'get_price_guide_4073_PART_2_N_stock_north_america', 'get_price_guide_4073_PART_11_N_stock_north_america', 'get_price_guide_4073_PART_85_N_stock_north_america', 'get_price_guide_4073_PART_86_N_stock_north_america', 'get_price_guide_4073_PART_88_N_stock_north_america', 'get_price_guide_4162_PART_1_N_stock_north_america', 'get_price_guide_4162_PART_85_N_stock_north_america', 'get_price_guide_4274_PART_7_N_stock_north_america', 'get_price_guide_4477_PART_1_N_stock_north_america', 'get_price_guide_4719c01_PART_5_N_stock_north_america', 'get_price_guide_22667_PART_34_N_stock_north_america', 'get_price_guide_33320_PART_85_N_stock_north_america', 'get_price_guide_3836_PART_88_N_stock_north_america', 'get_price_guide_4733_PART_11_N_stock_north_america', 'get_price_guide_4735_PART_11_N_stock_north_america', 'get_price_guide_4740_PART_1_N_stock_north_america', 'get_price_guide_4740_PART_11_N_stock_north_america', 'get_price_guide_30374_PART_11_N_stock_north_america', 'get_price_guide_6091_PART_1_N_stock_north_america', 'get_price_guide_6091_PART_3_N_stock_north_america', 'get_price_guide_6091_PART_59_N_stock_north_america', 'get_price_guide_6091_PART_86_N_stock_north_america', 'get_price_guide_6106_PART_11_N_stock_north_america', 'get_price_guide_6120_PART_1_N_stock_north_america', 'get_price_guide_6134_PART_86_N_stock_north_america', 'get_price_guide_3004_PART_71_N_stock_north_america', 'get_price_guide_3035_PART_86_N_stock_north_america', 'get_price_guide_3039_PART_88_N_stock_north_america', 'get_price_guide_3040_PART_4_N_stock_north_america', 'get_price_guide_3040_PART_71_N_stock_north_america', 'get_price_guide_3666_PART_89_N_stock_north_america', 'get_price_guide_4073_PART_4_N_stock_north_america', 'get_price_guide_4073_PART_89_N_stock_north_america', 'get_price_guide_6124_PART_50_N_stock_north_america', 'get_price_guide_6131_PART_11_N_stock_north_america', 'get_price_guide_30103_PART_11_N_stock_north_america', 'get_price_guide_4332_PART_11_N_stock_north_america', 'get_price_guide_33291_PART_36_N_stock_north_america', 'get_price_guide_33291_PART_47_N_stock_north_america', 'get_price_guide_3069b_PART_89_N_stock_north_america', 'get_price_guide_87580_PART_89_N_stock_north_america', 'get_price_guide_60581_PART_12_N_stock_north_america', 'get_price_guide_4085d_PART_88_N_stock_north_america', 'get_price_guide_3626c_PART_4_N_stock_north_america', 'get_price_guide_4460b_PART_88_N_stock_north_america', 'get_subsets_561408-1_SET', 'get_price_guide_2599a_PART_34_N_stock_north_america', 'get_price_guide_3022_PART_156_N_stock_north_america', 'get_price_guide_3023_PART_156_N_stock_north_america', 'get_price_guide_3035_PART_2_N_stock_north_america', 'get_price_guide_4073_PART_1_N_stock_north_america', 'get_price_guide_4073_PART_3_N_stock_north_america', 'get_price_guide_3942c_PART_89_N_stock_north_america', 'get_price_guide_48336_PART_2_N_stock_north_america', 'get_price_guide_4589b_PART_4_N_stock_north_america', 'get_price_guide_4589b_PART_14_N_stock_north_america', 'get_price_guide_63965_PART_1_N_stock_north_america', 'get_price_guide_63868_PART_3_N_stock_north_america', 'get_price_guide_3960pb020_PART_1_N_stock_north_america', 'get_price_guide_95344_PART_69_N_stock_north_america', 'get_price_guide_14769_PART_157_N_stock_north_america', 'get_subsets_561409-1_SET', 'get_price_guide_3002_PART_1_N_stock_north_america', 'get_price_guide_3003_PART_1_N_stock_north_america', 'get_price_guide_3004_PART_1_N_stock_north_america', 'get_price_guide_3005_PART_88_N_stock_north_america', 'get_price_guide_3005_PART_156_N_stock_north_america', 'get_price_guide_3020_PART_3_N_stock_north_america', 'get_price_guide_3021_PART_156_N_stock_north_america', 'get_price_guide_3023_PART_3_N_stock_north_america', 'get_price_guide_3062b_PART_1_N_stock_north_america', 'get_price_guide_3710_PART_3_N_stock_north_america', 'get_price_guide_4073_PART_104_N_stock_north_america', 'get_price_guide_4345_PART_86_N_stock_north_america', 'get_price_guide_4346_PART_12_N_stock_north_america', 'get_price_guide_6231_PART_156_N_stock_north_america', 'get_price_guide_3070bp07_PART_86_N_stock_north_america', 'get_price_guide_4599b_PART_86_N_stock_north_america', 'get_price_guide_98138_PART_1_N_stock_north_america', 'get_price_guide_98138_PART_115_N_stock_north_america', 'get_price_guide_3005pb016_PART_42_N_stock_north_america', 'get_price_guide_15395_PART_1_N_stock_north_america', 'get_price_guide_98138pb014_PART_150_N_stock_north_america', 'get_item_3006_PART', 'get_known_colors_3006_PART', 'get_price_guide_3006_PART_10_N_sold', 'get_price_guide_3006_PART_10_U_stock', 'get_subsets_10808-1_SET', 'get_part_price_guide_3004_86_N', 'get_all_colors', 'get_category_list', 'get_price_guide_6180_PART_86_N_stock_north_america', 'get_price_guide_6182_PART_2_N_stock_north_america', 'get_price_guide_6182_PART_86_N_stock_north_america', 'get_price_guide_6231_PART_1_N_stock_north_america', 'get_price_guide_6231_PART_86_N_stock_north_america', 'get_price_guide_6541_PART_1_N_stock_north_america', 'get_price_guide_6636_PART_1_N_stock_north_america', 'get_price_guide_6636_PART_2_N_stock_north_america', 'get_price_guide_6636_PART_86_N_stock_north_america', 'get_price_guide_6636_PART_88_N_stock_north_america', 'get_price_guide_73312_PART_11_N_stock_north_america', 'get_price_guide_2546_PART_85_N_stock_north_america', 'get_price_guide_2439_PART_86_N_stock_north_america', 'get_price_guide_2039_PART_1_N_stock_north_america', 'get_price_guide_30179_PART_11_N_stock_north_america', 'get_price_guide_4133_PART_1_N_stock_north_america', 'get_price_guide_41539_PART_11_N_stock_north_america', 'get_price_guide_3070b_PART_1_N_stock_north_america', 'get_price_guide_3070b_PART_2_N_stock_north_america', 'get_price_guide_3070b_PART_88_N_stock_north_america', 'get_price_guide_4132_PART_1_N_stock_north_america', 'get_price_guide_2412b_PART_67_N_stock_north_america', 'get_price_guide_4085c_PART_86_N_stock_north_america', 'get_price_guide_3069b_PART_1_N_stock_north_america', 'get_price_guide_3069b_PART_2_N_stock_north_america', 'get_price_guide_3069b_PART_3_N_stock_north_america', 'get_price_guide_3069b_PART_42_N_stock_north_america', 'get_price_guide_3069b_PART_88_N_stock_north_america', 'get_price_guide_3068b_PART_85_N_stock_north_america', 'get_price_guide_43898_PART_1_N_stock_north_america', 'get_price_guide_43888_PART_63_N_stock_north_america', 'get_price_guide_44302_PART_86_N_stock_north_america', 'get_price_guide_75c10_PART_11_N_stock_north_america', 'get_price_guide_2362b_PART_1_N_stock_north_america', 'get_price_guide_73435c01_PART_86_N_stock_north_america', 'get_price_guide_54200_PART_1_N_stock_north_america', 'get_price_guide_54200_PART_63_N_stock_north_america', 'get_price_guide_54200_PART_88_N_stock_north_america', 'get_price_guide_50745_PART_1_N_stock_north_america', 'get_price_guide_54384_PART_85_N_stock_north_america', 'get_price_guide_54383_PART_85_N_stock_north_america', 'get_price_guide_57895_PART_12_N_stock_north_america', 'get_price_guide_2339_PART_63_N_stock_north_america', 'get_price_guide_4599a_PART_11_N_stock_north_america', 'get_price_guide_4599a_PART_86_N_stock_north_america', 'get_price_guide_3794a_PART_1_N_stock_north_america', 'get_price_guide_3794a_PART_2_N_stock_north_america', 'get_price_guide_3794a_PART_63_N_stock_north_america', 'get_price_guide_3794a_PART_86_N_stock_north_america', 'get_price_guide_3940b_PART_11_N_stock_north_america', 'get_price_guide_44301a_PART_1_N_stock_north_america', 'get_price_guide_44301a_PART_85_N_stock_north_america', 'get_price_guide_44302a_PART_85_N_stock_north_america', 'get_price_guide_3680c02_PART_11_N_stock_north_america', 'get_price_guide_3680c02_PART_86_N_stock_north_america', 'get_price_guide_4132c04_PART_1_N_stock_north_america', 'get_price_guide_3747a_PART_2_N_stock_north_america', 'get_price_guide_3747a_PART_1_N_stock_north_america', 'get_price_guide_4460a_PART_59_N_stock_north_america']\n"
     ]
    }
   ],
   "source": [
    "shelf_file = '../resources/rccache'\n",
    "with shelve.open(shelf_file) as shelf:\n",
    "    print(list(shelf.keys()))"
   ],
   "metadata": {
    "collapsed": false,
    "pycharm": {
     "name": "#%%\n"
    }
   }
  },
  {
   "cell_type": "code",
   "execution_count": 126,
   "outputs": [],
   "source": [
    "shelf.close()"
   ],
   "metadata": {
    "collapsed": false,
    "pycharm": {
     "name": "#%%\n"
    }
   }
  },
  {
   "cell_type": "code",
   "execution_count": null,
   "outputs": [],
   "source": [],
   "metadata": {
    "collapsed": false,
    "pycharm": {
     "name": "#%%\n"
    }
   }
  }
 ],
 "metadata": {
  "kernelspec": {
   "name": "bcm-env",
   "language": "python",
   "display_name": "BCM-ENV"
  },
  "language_info": {
   "codemirror_mode": {
    "name": "ipython",
    "version": 3
   },
   "file_extension": ".py",
   "mimetype": "text/x-python",
   "name": "python",
   "nbconvert_exporter": "python",
   "pygments_lexer": "ipython3",
   "version": "3.6.1"
  }
 },
 "nbformat": 4,
 "nbformat_minor": 4
}