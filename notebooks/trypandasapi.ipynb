{
 "cells": [
  {
   "cell_type": "code",
   "execution_count": 12,
   "metadata": {},
   "outputs": [],
   "source": [
    "import pandas as pd\n",
    "\n",
    "\n",
    "class PartsList:\n",
    "    \"\"\"Parts list represented by a dataframe\"\"\"\n",
    "    def __init__(self):\n",
    "        self._data = pd.DataFrame()\n",
    "\n",
    "    def load_partslist_csv(self, csv: str):\n",
    "        self._data = self.read_partslist_csv(csv)\n",
    "\n",
    "    @staticmethod\n",
    "    def read_partslist_csv(csv: str)->pd.DataFrame:\n",
    "        \"\"\"Read the Partslist format CSV file from Stud.io\"\"\"\n",
    "        try:\n",
    "            pdf = pd.read_csv(csv, sep='\\t', header=0, engine='python', na_values='', skipfooter=3,\n",
    "                              dtype={'BLItemNo': str, 'BLColorId': int, 'LDrawColorId': int, 'Qty': int})\n",
    "            pdf = pdf.fillna({'BLColorId': '', 'Qty': 0})\n",
    "            pdf = pdf.rename(mapper={'BLItemNo': 'ItemId', 'BLColorId': 'Color'}, axis=1)\n",
    "            pdf = pdf.drop(columns=['ElementId', 'LdrawId', 'LDrawColorId'])\n",
    "            return pdf\n",
    "        except FileNotFoundError as e:\n",
    "            print(e)\n",
    "            return None\n",
    "\n",
    "    @property\n",
    "    def data(self):\n",
    "        return self._data"
   ]
  },
  {
   "cell_type": "code",
   "execution_count": 13,
   "metadata": {},
   "outputs": [],
   "source": [
    "pl = PartsList()"
   ]
  },
  {
   "cell_type": "code",
   "execution_count": 15,
   "metadata": {},
   "outputs": [
    {
     "data": {
      "text/plain": [
       "pandas.core.frame.DataFrame"
      ]
     },
     "execution_count": 15,
     "metadata": {},
     "output_type": "execute_result"
    }
   ],
   "source": [
    "type(pl.data)"
   ]
  },
  {
   "cell_type": "code",
   "execution_count": 16,
   "metadata": {},
   "outputs": [],
   "source": [
    "filename = r'../resources/Sampledata/Cougar_partslist.csv'\n",
    "pl.load_partslist_csv(filename)"
   ]
  },
  {
   "cell_type": "code",
   "execution_count": 7,
   "metadata": {},
   "outputs": [
    {
     "name": "stdout",
     "output_type": "stream",
     "text": [
      "is this working\n"
     ]
    }
   ],
   "source": [
    "df = pd.DataFrame()\n",
    "df.pl.read_partslist_csv(r'../resources/Sampledata/Cougar_partslist.csv')"
   ]
  },
  {
   "cell_type": "code",
   "execution_count": 9,
   "metadata": {},
   "outputs": [
    {
     "data": {
      "text/plain": [
       "'/Users/Keith/Projects/pybcm_proj/notebooks'"
      ]
     },
     "execution_count": 9,
     "metadata": {},
     "output_type": "execute_result"
    }
   ],
   "source": [
    "import os\n",
    "os.getcwd()"
   ]
  },
  {
   "cell_type": "code",
   "execution_count": 19,
   "metadata": {},
   "outputs": [
    {
     "data": {
      "text/plain": [
       "False"
      ]
     },
     "execution_count": 19,
     "metadata": {},
     "output_type": "execute_result"
    }
   ],
   "source": [
    "pl._data.empty"
   ]
  },
  {
   "cell_type": "code",
   "execution_count": null,
   "metadata": {},
   "outputs": [],
   "source": []
  }
 ],
 "metadata": {
  "kernelspec": {
   "display_name": "Python 3",
   "language": "python",
   "name": "python3"
  },
  "language_info": {
   "codemirror_mode": {
    "name": "ipython",
    "version": 3
   },
   "file_extension": ".py",
   "mimetype": "text/x-python",
   "name": "python",
   "nbconvert_exporter": "python",
   "pygments_lexer": "ipython3",
   "version": "3.6.1"
  }
 },
 "nbformat": 4,
 "nbformat_minor": 2
}
